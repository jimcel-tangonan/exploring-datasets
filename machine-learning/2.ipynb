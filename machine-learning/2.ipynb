{
 "cells": [
  {
   "cell_type": "markdown",
   "metadata": {},
   "source": [
    "## Logistic Regression"
   ]
  },
  {
   "cell_type": "markdown",
   "metadata": {},
   "source": [
    "Logistic regression is a classification algorithm used to predict a discrete set of classes or categories.\n",
    "\n",
    "Unlike linear regression which outputs continuous number values(for example, age), logistic regression applies an activation funciton, such as the sigmoid function, to return a probability value of 0 or 1. This can then be mapped to a discrete class like 'young' or 'old'\n",
    "\n",
    "- a statistical method to predict a discrete output or category\n",
    "- the most basic neural network you can create"
   ]
  },
  {
   "cell_type": "markdown",
   "metadata": {},
   "source": [
    "`Logistic Regression is a statistical method for predicting binary outcomes from data.`\n",
    "\n",
    "Examples of this are 'yes' vs 'no' or 'young' vs 'old'. These categories that translate to probability of being a 0 or a 1.\n",
    "\n",
    "We can calculate `logistic regression` by adding an `activation function` as a final step to our `linear model`.\n",
    "\n",
    "This converts the linear regression output to a probability."
   ]
  },
  {
   "cell_type": "code",
   "execution_count": 62,
   "metadata": {},
   "outputs": [
    {
     "data": {
      "text/plain": [
       "array([[-2.98837186,  8.82862715],\n",
       "       [ 5.72293008,  3.02697174],\n",
       "       [-3.05358035,  9.12520872],\n",
       "       [ 5.461939  ,  3.86996267],\n",
       "       [ 4.86733877,  3.28031244],\n",
       "       [-2.14780202, 10.55232269],\n",
       "       [ 4.91656964,  2.80035293],\n",
       "       [ 3.08921541,  2.04173266],\n",
       "       [-2.90130578,  7.55077118],\n",
       "       [-3.34841515,  8.70507375],\n",
       "       [-2.44166942,  7.58953794],\n",
       "       [ 3.40292813,  0.65271307],\n",
       "       [-2.97867201,  9.55684617],\n",
       "       [-3.83738367,  9.21114736],\n",
       "       [ 3.95985411,  2.20542338]])"
      ]
     },
     "execution_count": 62,
     "metadata": {},
     "output_type": "execute_result"
    }
   ],
   "source": [
    "import matplotlib.pyplot as plt\n",
    "import warnings\n",
    "warnings.simplefilter('ignore')\n",
    "\n",
    "import pandas as pd\n",
    "\n",
    "#generate some data\n",
    "from sklearn.datasets import make_blobs\n",
    "\n",
    "X,y = make_blobs(centers=2,random_state=42)\n",
    "\n",
    "X[:15]"
   ]
  },
  {
   "cell_type": "code",
   "execution_count": 20,
   "metadata": {},
   "outputs": [
    {
     "data": {
      "text/plain": [
       "array([0, 1, 0, 1, 1, 0, 1, 1, 0, 0])"
      ]
     },
     "execution_count": 20,
     "metadata": {},
     "output_type": "execute_result"
    }
   ],
   "source": [
    "y[:10]"
   ]
  },
  {
   "cell_type": "code",
   "execution_count": 15,
   "metadata": {},
   "outputs": [
    {
     "data": {
      "text/plain": [
       "array([-2.98837186,  5.72293008, -3.05358035,  5.461939  ,  4.86733877,\n",
       "       -2.14780202,  4.91656964,  3.08921541, -2.90130578, -3.34841515,\n",
       "       -2.44166942,  3.40292813, -2.97867201, -3.83738367,  3.95985411,\n",
       "        3.85662554,  4.70010905,  3.56898634,  4.69808755, -2.41743685,\n",
       "        4.85397258,  4.44751787,  5.43091078,  5.60325497,  4.89976163,\n",
       "       -0.92998481,  4.56277713, -1.6966718 ,  5.1618204 ,  4.375222  ,\n",
       "       -2.743351  , -3.98771961, -3.6601912 , -1.04354885, -2.16557933,\n",
       "        5.22673593,  4.81305976, -2.17793419, -3.31769123, -2.30033403,\n",
       "       -1.77073104,  5.45339605,  3.66519717,  5.11311646,  4.39449072,\n",
       "       -1.03130358, -2.54502366, -2.21307735, -3.6155326 ,  3.44857534,\n",
       "        4.65288073, -4.23411546, -2.97261532,  4.9976662 , -2.26723535,\n",
       "        5.26554618, -2.41212007,  4.89742923,  3.75036441, -2.1475616 ,\n",
       "       -2.42215055,  4.41641605, -3.03895783,  2.72110762,  5.79847442,\n",
       "        3.7560214 ,  6.52606474, -3.92456837,  3.0323956 ,  4.89037169,\n",
       "       -2.96983639,  3.64934251,  6.50565335,  5.78270165,  4.19336388,\n",
       "        4.47859312,  4.7395302 , -2.58120774,  3.7204546 , -2.52269485,\n",
       "        4.93295131, -3.11090424, -1.68665271, -3.4172217 ,  3.57757512,\n",
       "       -2.62484591, -3.21125072, -5.12894273,  4.60516707, -3.52202874,\n",
       "        6.04267315, -3.10983631, -2.18511365, -3.18611962, -2.85191214,\n",
       "       -1.4781981 , -1.59379551,  3.79308512, -2.72886951, -2.50408417])"
      ]
     },
     "execution_count": 15,
     "metadata": {},
     "output_type": "execute_result"
    }
   ],
   "source": [
    "X[:,0]"
   ]
  },
  {
   "cell_type": "code",
   "execution_count": 47,
   "metadata": {},
   "outputs": [
    {
     "data": {
      "text/plain": [
       "array([ 8.82862715,  3.02697174,  9.12520872,  3.86996267,  3.28031244,\n",
       "       10.55232269,  2.80035293,  2.04173266,  7.55077118,  8.70507375,\n",
       "        7.58953794,  0.65271307,  9.55684617,  9.21114736,  2.20542338,\n",
       "        1.65110817,  4.4364118 ,  2.4556421 ,  0.83019939,  7.02671721,\n",
       "        0.72743091,  2.27471703,  1.06378223,  2.38595061,  2.75499256,\n",
       "        9.78172086,  2.31432166, 10.37052616,  2.27015436,  4.69333885,\n",
       "        8.78014917,  8.29444192,  9.38998415,  8.78850983,  7.25124597,\n",
       "        4.16362531,  2.35848706,  9.98983126,  8.51252908,  7.054616  ,\n",
       "        9.18565441,  0.74230537,  2.76025429,  1.90034077,  1.21943352,\n",
       "        8.49601591, 10.57892978,  9.2753414 ,  7.8180795 ,  2.62972329,\n",
       "        3.42670376,  8.4519986 ,  8.54855637,  2.53395421,  7.10100588,\n",
       "        1.11601213,  9.98293112,  1.89872377,  1.1573594 ,  8.36916637,\n",
       "        8.71527878,  2.68717018,  9.52755356,  1.94665581,  1.15248737,\n",
       "        2.12689479,  2.1477475 ,  8.59364081,  2.15780354,  2.31961789,\n",
       "       10.07140835,  1.40687195,  2.4470026 ,  2.72510272,  2.82956848,\n",
       "        2.37722054,  1.46969403, 10.01781903,  3.52310409,  7.9565752 ,\n",
       "        1.25881827, 10.86656431,  7.79344248,  7.60198243,  2.44676211,\n",
       "        8.71318243,  8.68662398,  9.83618863,  0.80449165,  9.32853346,\n",
       "        0.57131862,  8.72259238,  8.62920385,  9.62596242,  8.21200886,\n",
       "        9.94556625,  9.34303724,  0.45832246,  9.3713987 ,  8.77969899])"
      ]
     },
     "execution_count": 47,
     "metadata": {},
     "output_type": "execute_result"
    }
   ],
   "source": [
    "X[:,1]"
   ]
  },
  {
   "cell_type": "code",
   "execution_count": 26,
   "metadata": {},
   "outputs": [
    {
     "data": {
      "text/plain": [
       "<matplotlib.collections.PathCollection at 0x1a16b4b4e0>"
      ]
     },
     "execution_count": 26,
     "metadata": {},
     "output_type": "execute_result"
    },
    {
     "data": {
      "image/png": "[encoded data removed]",
      "text/plain": [
       "<Figure size 432x288 with 1 Axes>"
      ]
     },
     "metadata": {
      "needs_background": "light"
     },
     "output_type": "display_data"
    }
   ],
   "source": [
    "#visualizing both classes\n",
    "plt.scatter(X[:,0], X[:,1], c='0.75')"
   ]
  },
  {
   "cell_type": "code",
   "execution_count": 29,
   "metadata": {},
   "outputs": [],
   "source": [
    "#split our data into training and testing\n",
    "\n",
    "#to stratify is create a representative sample of 0 and 1. so that when to split with train and test,\n",
    "#we have equal proportions of each\n",
    "\n",
    "from sklearn.model_selection import train_test_split\n",
    "\n",
    "X_train, X_test, y_train, y_test = train_test_split(X,y,random_state=1, stratify=y)"
   ]
  },
  {
   "cell_type": "code",
   "execution_count": 30,
   "metadata": {},
   "outputs": [
    {
     "data": {
      "text/plain": [
       "LogisticRegression(C=1.0, class_weight=None, dual=False, fit_intercept=True,\n",
       "          intercept_scaling=1, max_iter=100, multi_class='warn',\n",
       "          n_jobs=None, penalty='l2', random_state=None, solver='warn',\n",
       "          tol=0.0001, verbose=0, warm_start=False)"
      ]
     },
     "execution_count": 30,
     "metadata": {},
     "output_type": "execute_result"
    }
   ],
   "source": [
    "#create a logistic regression model\n",
    "from sklearn.linear_model import LogisticRegression\n",
    "\n",
    "classifier = LogisticRegression()\n",
    "classifier\n",
    "\n",
    "#we are splitting out all the default parameters of LogisticRegression()"
   ]
  },
  {
   "cell_type": "code",
   "execution_count": 32,
   "metadata": {},
   "outputs": [
    {
     "data": {
      "text/plain": [
       "LogisticRegression(C=1.0, class_weight=None, dual=False, fit_intercept=True,\n",
       "          intercept_scaling=1, max_iter=100, multi_class='warn',\n",
       "          n_jobs=None, penalty='l2', random_state=None, solver='warn',\n",
       "          tol=0.0001, verbose=0, warm_start=False)"
      ]
     },
     "execution_count": 32,
     "metadata": {},
     "output_type": "execute_result"
    }
   ],
   "source": [
    "#fit(train) or model using the training data\n",
    "classifier.fit(X_train, y_train)"
   ]
  },
  {
   "cell_type": "code",
   "execution_count": 34,
   "metadata": {},
   "outputs": [
    {
     "name": "stdout",
     "output_type": "stream",
     "text": [
      "training data score: 1.0\n",
      "testing data score: 1.0\n"
     ]
    }
   ],
   "source": [
    "#validate the model using the test data\n",
    "print(f'training data score: {classifier.score(X_train, y_train)}')\n",
    "print(f'testing data score: {classifier.score(X_test, y_test)}')\n",
    "\n",
    "#the score of 1.0, is a perfect score."
   ]
  },
  {
   "cell_type": "code",
   "execution_count": 60,
   "metadata": {},
   "outputs": [
    {
     "data": {
      "text/plain": [
       "<matplotlib.collections.PathCollection at 0x1a18e11cf8>"
      ]
     },
     "execution_count": 60,
     "metadata": {},
     "output_type": "execute_result"
    },
    {
     "data": {
      "image/png": "[encoded data removed]",
      "text/plain": [
       "<Figure size 432x288 with 1 Axes>"
      ]
     },
     "metadata": {
      "needs_background": "light"
     },
     "output_type": "display_data"
    }
   ],
   "source": [
    "#generate a new data point(the red circle)\n",
    "import numpy as np\n",
    "new_data = np.array([[-2,6]])\n",
    "\n",
    "plt.scatter(X[:,0], X[:,1],c='0.75')\n",
    "plt.scatter(new_data[0,0], new_data[0,1], c='maroon', s=25)"
   ]
  },
  {
   "cell_type": "code",
   "execution_count": 53,
   "metadata": {},
   "outputs": [
    {
     "name": "stdout",
     "output_type": "stream",
     "text": [
      "classes are either 0(purple) or 1(yellow)\n",
      "the new point was classified as: [0]\n"
     ]
    }
   ],
   "source": [
    "#predict the class (purple or yellow) of the new data point\n",
    "predictions = classifier.predict(new_data)\n",
    "\n",
    "print('classes are either 0(purple) or 1(yellow)')\n",
    "print(f'the new point was classified as: {predictions}')"
   ]
  },
  {
   "cell_type": "code",
   "execution_count": 58,
   "metadata": {},
   "outputs": [
    {
     "data": {
      "text/html": [
       "<div>\n",
       "<style scoped>\n",
       "    .dataframe tbody tr th:only-of-type {\n",
       "        vertical-align: middle;\n",
       "    }\n",
       "\n",
       "    .dataframe tbody tr th {\n",
       "        vertical-align: top;\n",
       "    }\n",
       "\n",
       "    .dataframe thead th {\n",
       "        text-align: right;\n",
       "    }\n",
       "</style>\n",
       "<table border=\"1\" class=\"dataframe\">\n",
       "  <thead>\n",
       "    <tr style=\"text-align: right;\">\n",
       "      <th></th>\n",
       "      <th>prediction</th>\n",
       "      <th>actual</th>\n",
       "    </tr>\n",
       "  </thead>\n",
       "  <tbody>\n",
       "    <tr>\n",
       "      <th>0</th>\n",
       "      <td>1</td>\n",
       "      <td>1</td>\n",
       "    </tr>\n",
       "    <tr>\n",
       "      <th>1</th>\n",
       "      <td>0</td>\n",
       "      <td>0</td>\n",
       "    </tr>\n",
       "    <tr>\n",
       "      <th>2</th>\n",
       "      <td>1</td>\n",
       "      <td>1</td>\n",
       "    </tr>\n",
       "    <tr>\n",
       "      <th>3</th>\n",
       "      <td>1</td>\n",
       "      <td>1</td>\n",
       "    </tr>\n",
       "    <tr>\n",
       "      <th>4</th>\n",
       "      <td>1</td>\n",
       "      <td>1</td>\n",
       "    </tr>\n",
       "  </tbody>\n",
       "</table>\n",
       "</div>"
      ],
      "text/plain": [
       "   prediction  actual\n",
       "0           1       1\n",
       "1           0       0\n",
       "2           1       1\n",
       "3           1       1\n",
       "4           1       1"
      ]
     },
     "execution_count": 58,
     "metadata": {},
     "output_type": "execute_result"
    }
   ],
   "source": [
    "predictions = classifier.predict(X_test)\n",
    "pd.DataFrame({'prediction': predictions, 'actual': y_test}).head()"
   ]
  },
  {
   "cell_type": "code",
   "execution_count": 59,
   "metadata": {},
   "outputs": [
    {
     "data": {
      "text/plain": [
       "array([[ 4.89976163,  2.75499256],\n",
       "       [-2.17793419,  9.98983126],\n",
       "       [ 4.19336388,  2.82956848],\n",
       "       [ 4.375222  ,  4.69333885],\n",
       "       [ 3.79308512,  0.45832246],\n",
       "       [-3.83738367,  9.21114736],\n",
       "       [ 5.11311646,  1.90034077],\n",
       "       [ 4.44751787,  2.27471703],\n",
       "       [ 4.7395302 ,  1.46969403],\n",
       "       [-3.98771961,  8.29444192],\n",
       "       [-2.72886951,  9.3713987 ],\n",
       "       [ 4.65288073,  3.42670376],\n",
       "       [ 3.44857534,  2.62972329],\n",
       "       [-0.92998481,  9.78172086],\n",
       "       [ 5.72293008,  3.02697174],\n",
       "       [-2.98837186,  8.82862715],\n",
       "       [-2.16557933,  7.25124597],\n",
       "       [-2.743351  ,  8.78014917],\n",
       "       [-3.05358035,  9.12520872],\n",
       "       [-2.41743685,  7.02671721],\n",
       "       [ 3.08921541,  2.04173266],\n",
       "       [ 3.7560214 ,  2.12689479],\n",
       "       [-2.44166942,  7.58953794],\n",
       "       [-2.18511365,  8.62920385],\n",
       "       [ 4.56277713,  2.31432166]])"
      ]
     },
     "execution_count": 59,
     "metadata": {},
     "output_type": "execute_result"
    }
   ],
   "source": [
    "X_test"
   ]
  },
  {
   "cell_type": "markdown",
   "metadata": {},
   "source": [
    "---"
   ]
  },
  {
   "cell_type": "markdown",
   "metadata": {},
   "source": [
    "## Voice Recognition - Student"
   ]
  },
  {
   "cell_type": "code",
   "execution_count": 114,
   "metadata": {},
   "outputs": [],
   "source": [
    "%matplotlib inline\n",
    "\n",
    "import matplotlib.pyplot as plt\n",
    "import pandas as pd"
   ]
  },
  {
   "cell_type": "code",
   "execution_count": 116,
   "metadata": {},
   "outputs": [],
   "source": [
    "voice = pd.read_csv('Resources/voice.csv')"
   ]
  },
  {
   "cell_type": "code",
   "execution_count": 74,
   "metadata": {},
   "outputs": [
    {
     "name": "stdout",
     "output_type": "stream",
     "text": [
      "(3168, 20) (3168,)\n"
     ]
    }
   ],
   "source": [
    "X = voice.drop('label', axis=1)\n",
    "y = voice['label']\n",
    "print(X.shape,y.shape)"
   ]
  },
  {
   "cell_type": "code",
   "execution_count": 75,
   "metadata": {},
   "outputs": [],
   "source": [
    "#split our data into training and testing\n",
    "from sklearn.model_selection import train_test_split\n",
    "\n",
    "X_train, X_test, y_train, y_test = train_test_split(X,y,random_state=1, stratify=y)"
   ]
  },
  {
   "cell_type": "code",
   "execution_count": 77,
   "metadata": {},
   "outputs": [
    {
     "data": {
      "text/plain": [
       "LogisticRegression(C=1.0, class_weight=None, dual=False, fit_intercept=True,\n",
       "          intercept_scaling=1, max_iter=100, multi_class='warn',\n",
       "          n_jobs=None, penalty='l2', random_state=None, solver='warn',\n",
       "          tol=0.0001, verbose=0, warm_start=False)"
      ]
     },
     "execution_count": 77,
     "metadata": {},
     "output_type": "execute_result"
    }
   ],
   "source": [
    "#create a Logistic Regression Model\n",
    "from sklearn.linear_model import LogisticRegression\n",
    "\n",
    "classifier = LogisticRegression()\n",
    "classifier"
   ]
  },
  {
   "cell_type": "code",
   "execution_count": 78,
   "metadata": {},
   "outputs": [
    {
     "data": {
      "text/plain": [
       "LogisticRegression(C=1.0, class_weight=None, dual=False, fit_intercept=True,\n",
       "          intercept_scaling=1, max_iter=100, multi_class='warn',\n",
       "          n_jobs=None, penalty='l2', random_state=None, solver='warn',\n",
       "          tol=0.0001, verbose=0, warm_start=False)"
      ]
     },
     "execution_count": 78,
     "metadata": {},
     "output_type": "execute_result"
    }
   ],
   "source": [
    "#Fit(train) or model using the training data\n",
    "classifier.fit(X_train, y_train)"
   ]
  },
  {
   "cell_type": "code",
   "execution_count": 92,
   "metadata": {},
   "outputs": [
    {
     "name": "stdout",
     "output_type": "stream",
     "text": [
      "training score 0.9074074074074074\n",
      "testing score 0.9191919191919192\n"
     ]
    }
   ],
   "source": [
    "#validate the model using the test data\n",
    "print(f'training score {classifier.score(X_train, y_train)}')\n",
    "print(f'testing score {classifier.score(X_test,y_test)}')"
   ]
  },
  {
   "cell_type": "markdown",
   "metadata": {},
   "source": [
    "#### validate by calculating accuracy \n",
    "`training score 0.90%` `testing score 0.92%`\n",
    "- this is not the r2-score\n",
    "\n",
    "\n"
   ]
  },
  {
   "cell_type": "code",
   "execution_count": 85,
   "metadata": {},
   "outputs": [
    {
     "name": "stdout",
     "output_type": "stream",
     "text": [
      "first 10 predictions: ['male' 'male' 'male' 'male' 'male' 'male' 'female' 'female' 'male' 'male']\n",
      "first 10 actual:      ['female', 'female', 'male', 'female', 'male', 'male', 'female', 'female', 'male', 'male']\n"
     ]
    }
   ],
   "source": [
    "#make predictions\n",
    "predictions = classifier.predict(X_test)\n",
    "\n",
    "print(f'first 10 predictions: {predictions[:10]}')\n",
    "print(f'first 10 actual:      {y_test[:10].tolist()}')"
   ]
  },
  {
   "cell_type": "code",
   "execution_count": 91,
   "metadata": {},
   "outputs": [
    {
     "data": {
      "text/html": [
       "<div>\n",
       "<style scoped>\n",
       "    .dataframe tbody tr th:only-of-type {\n",
       "        vertical-align: middle;\n",
       "    }\n",
       "\n",
       "    .dataframe tbody tr th {\n",
       "        vertical-align: top;\n",
       "    }\n",
       "\n",
       "    .dataframe thead th {\n",
       "        text-align: right;\n",
       "    }\n",
       "</style>\n",
       "<table border=\"1\" class=\"dataframe\">\n",
       "  <thead>\n",
       "    <tr style=\"text-align: right;\">\n",
       "      <th></th>\n",
       "      <th>prediction</th>\n",
       "      <th>actual</th>\n",
       "    </tr>\n",
       "  </thead>\n",
       "  <tbody>\n",
       "    <tr>\n",
       "      <th>0</th>\n",
       "      <td>male</td>\n",
       "      <td>female</td>\n",
       "    </tr>\n",
       "    <tr>\n",
       "      <th>1</th>\n",
       "      <td>male</td>\n",
       "      <td>female</td>\n",
       "    </tr>\n",
       "    <tr>\n",
       "      <th>2</th>\n",
       "      <td>male</td>\n",
       "      <td>male</td>\n",
       "    </tr>\n",
       "    <tr>\n",
       "      <th>3</th>\n",
       "      <td>male</td>\n",
       "      <td>female</td>\n",
       "    </tr>\n",
       "    <tr>\n",
       "      <th>4</th>\n",
       "      <td>male</td>\n",
       "      <td>male</td>\n",
       "    </tr>\n",
       "    <tr>\n",
       "      <th>5</th>\n",
       "      <td>male</td>\n",
       "      <td>male</td>\n",
       "    </tr>\n",
       "    <tr>\n",
       "      <th>6</th>\n",
       "      <td>female</td>\n",
       "      <td>female</td>\n",
       "    </tr>\n",
       "    <tr>\n",
       "      <th>7</th>\n",
       "      <td>female</td>\n",
       "      <td>female</td>\n",
       "    </tr>\n",
       "    <tr>\n",
       "      <th>8</th>\n",
       "      <td>male</td>\n",
       "      <td>male</td>\n",
       "    </tr>\n",
       "    <tr>\n",
       "      <th>9</th>\n",
       "      <td>male</td>\n",
       "      <td>male</td>\n",
       "    </tr>\n",
       "  </tbody>\n",
       "</table>\n",
       "</div>"
      ],
      "text/plain": [
       "  prediction  actual\n",
       "0       male  female\n",
       "1       male  female\n",
       "2       male    male\n",
       "3       male  female\n",
       "4       male    male\n",
       "5       male    male\n",
       "6     female  female\n",
       "7     female  female\n",
       "8       male    male\n",
       "9       male    male"
      ]
     },
     "execution_count": 91,
     "metadata": {},
     "output_type": "execute_result"
    }
   ],
   "source": [
    "pd.DataFrame({'prediction':predictions[:10],'actual':y_test[:10]}).reset_index(drop=True)"
   ]
  },
  {
   "cell_type": "markdown",
   "metadata": {},
   "source": [
    "---"
   ]
  },
  {
   "cell_type": "markdown",
   "metadata": {},
   "source": [
    "## Decision Trees & Random Forests"
   ]
  },
  {
   "cell_type": "markdown",
   "metadata": {},
   "source": [
    "Decision Tree\n",
    "- These True/False questions can be represented with a series of If/Else Statements\n",
    "- Tend to overfit the data. Decision Trees can become very complex and may not generalize well\n",
    "\n",
    "\n",
    "More powerful than a `Decision Tree` is a `Random Forest`. Instead of a single, complex tree like in the previous slide, a random forest algorithm will sample the data and build many smaller, simpler decision trees.\n",
    "- (ie. A forest of trees). \n",
    "\n",
    "Each of these trees are much simpler because they are built from a subset of the data.\n",
    "\n",
    "Each simple tree is considered a 'weak classifier', but when you combine them, they form a 'strong classifier'"
   ]
  },
  {
   "cell_type": "markdown",
   "metadata": {},
   "source": [
    "### Decision Tree"
   ]
  },
  {
   "cell_type": "code",
   "execution_count": 1,
   "metadata": {},
   "outputs": [],
   "source": [
    "from sklearn import tree\n",
    "from sklearn.datasets import load_iris"
   ]
  },
  {
   "cell_type": "code",
   "execution_count": 2,
   "metadata": {},
   "outputs": [],
   "source": [
    "iris = load_iris()\n",
    "clf = tree.DecisionTreeClassifier()\n",
    "clf = clf.fit(iris.data, iris.target)"
   ]
  },
  {
   "cell_type": "code",
   "execution_count": 3,
   "metadata": {},
   "outputs": [
    {
     "name": "stdout",
     "output_type": "stream",
     "text": [
      "(150, 4) (150,)\n"
     ]
    }
   ],
   "source": [
    "print(iris.data.shape, iris.target.shape)"
   ]
  },
  {
   "cell_type": "code",
   "execution_count": 14,
   "metadata": {},
   "outputs": [
    {
     "data": {
      "text/plain": [
       "array([0, 0, 0, 0, 0, 0, 0, 0, 0, 0, 0, 0, 0, 0, 0, 0, 0, 0, 0, 0, 0, 0,\n",
       "       0, 0, 0, 0, 0, 0, 0, 0, 0, 0, 0, 0, 0, 0, 0, 0, 0, 0, 0, 0, 0, 0,\n",
       "       0, 0, 0, 0, 0, 0, 1, 1, 1, 1, 1, 1, 1, 1, 1, 1, 1, 1, 1, 1, 1, 1,\n",
       "       1, 1, 1, 1, 1, 1, 1, 1, 1, 1, 1, 1, 1, 1, 1, 1, 1, 1, 1, 1, 1, 1,\n",
       "       1, 1, 1, 1, 1, 1, 1, 1, 1, 1, 1, 1, 2, 2, 2, 2, 2, 2, 2, 2, 2, 2,\n",
       "       2, 2, 2, 2, 2, 2, 2, 2, 2, 2, 2, 2, 2, 2, 2, 2, 2, 2, 2, 2, 2, 2,\n",
       "       2, 2, 2, 2, 2, 2, 2, 2, 2, 2, 2, 2, 2, 2, 2, 2, 2, 2])"
      ]
     },
     "execution_count": 14,
     "metadata": {},
     "output_type": "execute_result"
    }
   ],
   "source": [
    "iris.target"
   ]
  },
  {
   "cell_type": "code",
   "execution_count": 5,
   "metadata": {},
   "outputs": [
    {
     "data": {
      "text/plain": [
       "array([[5.1, 3.5, 1.4, 0.2],\n",
       "       [4.9, 3. , 1.4, 0.2],\n",
       "       [4.7, 3.2, 1.3, 0.2],\n",
       "       [4.6, 3.1, 1.5, 0.2],\n",
       "       [5. , 3.6, 1.4, 0.2]])"
      ]
     },
     "execution_count": 5,
     "metadata": {},
     "output_type": "execute_result"
    }
   ],
   "source": [
    "iris.data[:5]"
   ]
  },
  {
   "cell_type": "code",
   "execution_count": 16,
   "metadata": {},
   "outputs": [
    {
     "data": {
      "image/svg+xml": [
       "<?xml version=\"1.0\" encoding=\"UTF-8\" standalone=\"no\"?>\n",
       "<!DOCTYPE svg PUBLIC \"-//W3C//DTD SVG 1.1//EN\"\n",
       " \"http://www.w3.org/Graphics/SVG/1.1/DTD/svg11.dtd\">\n",
       "<!-- Generated by graphviz version 2.40.1 (20161225.0304)\n",
       " -->\n",
       "<!-- Title: Tree Pages: 1 -->\n",
       "<svg width=\"868pt\" height=\"642pt\"\n",
       " viewBox=\"0.00 0.00 867.83 642.00\" xmlns=\"http://www.w3.org/2000/svg\" xmlns:xlink=\"http://www.w3.org/1999/xlink\">\n",
       "<g id=\"graph0\" class=\"graph\" transform=\"scale(1 1) rotate(0) translate(4 638)\">\n",
       "<title>Tree</title>\n",
       "<polygon fill=\"#ffffff\" stroke=\"transparent\" points=\"-4,4 -4,-638 863.8306,-638 863.8306,4 -4,4\"/>\n",
       "<!-- 0 -->\n",
       "<g id=\"node1\" class=\"node\">\n",
       "<title>0</title>\n",
       "<path fill=\"transparent\" stroke=\"#000000\" d=\"M516.6091,-634C516.6091,-634 391.1458,-634 391.1458,-634 385.1458,-634 379.1458,-628 379.1458,-622 379.1458,-622 379.1458,-568 379.1458,-568 379.1458,-562 385.1458,-556 391.1458,-556 391.1458,-556 516.6091,-556 516.6091,-556 522.6091,-556 528.6091,-562 528.6091,-568 528.6091,-568 528.6091,-622 528.6091,-622 528.6091,-628 522.6091,-634 516.6091,-634\"/>\n",
       "<text text-anchor=\"start\" x=\"387.0117\" y=\"-618.8\" font-family=\"Helvetica,sans-Serif\" font-size=\"14.00\" fill=\"#000000\">petal width (cm) ≤ 0.8</text>\n",
       "<text text-anchor=\"start\" x=\"417.4863\" y=\"-604.8\" font-family=\"Helvetica,sans-Serif\" font-size=\"14.00\" fill=\"#000000\">gini = 0.667</text>\n",
       "<text text-anchor=\"start\" x=\"408.1553\" y=\"-590.8\" font-family=\"Helvetica,sans-Serif\" font-size=\"14.00\" fill=\"#000000\">samples = 150</text>\n",
       "<text text-anchor=\"start\" x=\"394.1382\" y=\"-576.8\" font-family=\"Helvetica,sans-Serif\" font-size=\"14.00\" fill=\"#000000\">value = [50, 50, 50]</text>\n",
       "<text text-anchor=\"start\" x=\"409.3276\" y=\"-562.8\" font-family=\"Helvetica,sans-Serif\" font-size=\"14.00\" fill=\"#000000\">class = setosa</text>\n",
       "</g>\n",
       "<!-- 1 -->\n",
       "<g id=\"node2\" class=\"node\">\n",
       "<title>1</title>\n",
       "<path fill=\"#e58139\" stroke=\"#000000\" d=\"M423.7837,-513C423.7837,-513 327.9712,-513 327.9712,-513 321.9712,-513 315.9712,-507 315.9712,-501 315.9712,-501 315.9712,-461 315.9712,-461 315.9712,-455 321.9712,-449 327.9712,-449 327.9712,-449 423.7837,-449 423.7837,-449 429.7837,-449 435.7837,-455 435.7837,-461 435.7837,-461 435.7837,-501 435.7837,-501 435.7837,-507 429.7837,-513 423.7837,-513\"/>\n",
       "<text text-anchor=\"start\" x=\"347.2725\" y=\"-497.8\" font-family=\"Helvetica,sans-Serif\" font-size=\"14.00\" fill=\"#000000\">gini = 0.0</text>\n",
       "<text text-anchor=\"start\" x=\"334.0483\" y=\"-483.8\" font-family=\"Helvetica,sans-Serif\" font-size=\"14.00\" fill=\"#000000\">samples = 50</text>\n",
       "<text text-anchor=\"start\" x=\"323.9243\" y=\"-469.8\" font-family=\"Helvetica,sans-Serif\" font-size=\"14.00\" fill=\"#000000\">value = [50, 0, 0]</text>\n",
       "<text text-anchor=\"start\" x=\"331.3276\" y=\"-455.8\" font-family=\"Helvetica,sans-Serif\" font-size=\"14.00\" fill=\"#000000\">class = setosa</text>\n",
       "</g>\n",
       "<!-- 0&#45;&gt;1 -->\n",
       "<g id=\"edge1\" class=\"edge\">\n",
       "<title>0&#45;&gt;1</title>\n",
       "<path fill=\"none\" stroke=\"#000000\" d=\"M427.0343,-555.7677C419.4491,-544.6817 411.1823,-532.5994 403.5494,-521.4436\"/>\n",
       "<polygon fill=\"#000000\" stroke=\"#000000\" points=\"406.3933,-519.4019 397.8578,-513.1252 400.6161,-523.3547 406.3933,-519.4019\"/>\n",
       "<text text-anchor=\"middle\" x=\"393.2506\" y=\"-533.497\" font-family=\"Helvetica,sans-Serif\" font-size=\"14.00\" fill=\"#000000\">True</text>\n",
       "</g>\n",
       "<!-- 2 -->\n",
       "<g id=\"node3\" class=\"node\">\n",
       "<title>2</title>\n",
       "<path fill=\"transparent\" stroke=\"#000000\" d=\"M599.3958,-520C599.3958,-520 466.3591,-520 466.3591,-520 460.3591,-520 454.3591,-514 454.3591,-508 454.3591,-508 454.3591,-454 454.3591,-454 454.3591,-448 460.3591,-442 466.3591,-442 466.3591,-442 599.3958,-442 599.3958,-442 605.3958,-442 611.3958,-448 611.3958,-454 611.3958,-454 611.3958,-508 611.3958,-508 611.3958,-514 605.3958,-520 599.3958,-520\"/>\n",
       "<text text-anchor=\"start\" x=\"462.1187\" y=\"-504.8\" font-family=\"Helvetica,sans-Serif\" font-size=\"14.00\" fill=\"#000000\">petal width (cm) ≤ 1.75</text>\n",
       "<text text-anchor=\"start\" x=\"504.2725\" y=\"-490.8\" font-family=\"Helvetica,sans-Serif\" font-size=\"14.00\" fill=\"#000000\">gini = 0.5</text>\n",
       "<text text-anchor=\"start\" x=\"487.1553\" y=\"-476.8\" font-family=\"Helvetica,sans-Serif\" font-size=\"14.00\" fill=\"#000000\">samples = 100</text>\n",
       "<text text-anchor=\"start\" x=\"477.0313\" y=\"-462.8\" font-family=\"Helvetica,sans-Serif\" font-size=\"14.00\" fill=\"#000000\">value = [0, 50, 50]</text>\n",
       "<text text-anchor=\"start\" x=\"479\" y=\"-448.8\" font-family=\"Helvetica,sans-Serif\" font-size=\"14.00\" fill=\"#000000\">class = versicolor</text>\n",
       "</g>\n",
       "<!-- 0&#45;&gt;2 -->\n",
       "<g id=\"edge2\" class=\"edge\">\n",
       "<title>0&#45;&gt;2</title>\n",
       "<path fill=\"none\" stroke=\"#000000\" d=\"M481.0648,-555.7677C487.0853,-547.0798 493.5298,-537.7801 499.7571,-528.794\"/>\n",
       "<polygon fill=\"#000000\" stroke=\"#000000\" points=\"502.8209,-530.5176 505.64,-520.3046 497.0673,-526.5304 502.8209,-530.5176\"/>\n",
       "<text text-anchor=\"middle\" x=\"510.1009\" y=\"-540.7034\" font-family=\"Helvetica,sans-Serif\" font-size=\"14.00\" fill=\"#000000\">False</text>\n",
       "</g>\n",
       "<!-- 3 -->\n",
       "<g id=\"node4\" class=\"node\">\n",
       "<title>3</title>\n",
       "<path fill=\"#39e581\" fill-opacity=\"0.898039\" stroke=\"#000000\" d=\"M489.3569,-406C489.3569,-406 350.3979,-406 350.3979,-406 344.3979,-406 338.3979,-400 338.3979,-394 338.3979,-394 338.3979,-340 338.3979,-340 338.3979,-334 344.3979,-328 350.3979,-328 350.3979,-328 489.3569,-328 489.3569,-328 495.3569,-328 501.3569,-334 501.3569,-340 501.3569,-340 501.3569,-394 501.3569,-394 501.3569,-400 495.3569,-406 489.3569,-406\"/>\n",
       "<text text-anchor=\"start\" x=\"346.3877\" y=\"-390.8\" font-family=\"Helvetica,sans-Serif\" font-size=\"14.00\" fill=\"#000000\">petal length (cm) ≤ 4.95</text>\n",
       "<text text-anchor=\"start\" x=\"383.4863\" y=\"-376.8\" font-family=\"Helvetica,sans-Serif\" font-size=\"14.00\" fill=\"#000000\">gini = 0.168</text>\n",
       "<text text-anchor=\"start\" x=\"378.0483\" y=\"-362.8\" font-family=\"Helvetica,sans-Serif\" font-size=\"14.00\" fill=\"#000000\">samples = 54</text>\n",
       "<text text-anchor=\"start\" x=\"367.9243\" y=\"-348.8\" font-family=\"Helvetica,sans-Serif\" font-size=\"14.00\" fill=\"#000000\">value = [0, 49, 5]</text>\n",
       "<text text-anchor=\"start\" x=\"366\" y=\"-334.8\" font-family=\"Helvetica,sans-Serif\" font-size=\"14.00\" fill=\"#000000\">class = versicolor</text>\n",
       "</g>\n",
       "<!-- 2&#45;&gt;3 -->\n",
       "<g id=\"edge3\" class=\"edge\">\n",
       "<title>2&#45;&gt;3</title>\n",
       "<path fill=\"none\" stroke=\"#000000\" d=\"M493.9893,-441.7677C484.9337,-432.632 475.2076,-422.8198 465.8773,-413.407\"/>\n",
       "<polygon fill=\"#000000\" stroke=\"#000000\" points=\"468.363,-410.9429 458.8373,-406.3046 463.3914,-415.8708 468.363,-410.9429\"/>\n",
       "</g>\n",
       "<!-- 12 -->\n",
       "<g id=\"node13\" class=\"node\">\n",
       "<title>12</title>\n",
       "<path fill=\"#8139e5\" fill-opacity=\"0.976471\" stroke=\"#000000\" d=\"M715.3569,-406C715.3569,-406 576.3979,-406 576.3979,-406 570.3979,-406 564.3979,-400 564.3979,-394 564.3979,-394 564.3979,-340 564.3979,-340 564.3979,-334 570.3979,-328 576.3979,-328 576.3979,-328 715.3569,-328 715.3569,-328 721.3569,-328 727.3569,-334 727.3569,-340 727.3569,-340 727.3569,-394 727.3569,-394 727.3569,-400 721.3569,-406 715.3569,-406\"/>\n",
       "<text text-anchor=\"start\" x=\"572.3877\" y=\"-390.8\" font-family=\"Helvetica,sans-Serif\" font-size=\"14.00\" fill=\"#000000\">petal length (cm) ≤ 4.85</text>\n",
       "<text text-anchor=\"start\" x=\"609.4863\" y=\"-376.8\" font-family=\"Helvetica,sans-Serif\" font-size=\"14.00\" fill=\"#000000\">gini = 0.043</text>\n",
       "<text text-anchor=\"start\" x=\"604.0483\" y=\"-362.8\" font-family=\"Helvetica,sans-Serif\" font-size=\"14.00\" fill=\"#000000\">samples = 46</text>\n",
       "<text text-anchor=\"start\" x=\"593.9243\" y=\"-348.8\" font-family=\"Helvetica,sans-Serif\" font-size=\"14.00\" fill=\"#000000\">value = [0, 1, 45]</text>\n",
       "<text text-anchor=\"start\" x=\"596.2759\" y=\"-334.8\" font-family=\"Helvetica,sans-Serif\" font-size=\"14.00\" fill=\"#000000\">class = virginica</text>\n",
       "</g>\n",
       "<!-- 2&#45;&gt;12 -->\n",
       "<g id=\"edge12\" class=\"edge\">\n",
       "<title>2&#45;&gt;12</title>\n",
       "<path fill=\"none\" stroke=\"#000000\" d=\"M571.7656,-441.7677C580.8212,-432.632 590.5473,-422.8198 599.8775,-413.407\"/>\n",
       "<polygon fill=\"#000000\" stroke=\"#000000\" points=\"602.3635,-415.8708 606.9176,-406.3046 597.3919,-410.9429 602.3635,-415.8708\"/>\n",
       "</g>\n",
       "<!-- 4 -->\n",
       "<g id=\"node5\" class=\"node\">\n",
       "<title>4</title>\n",
       "<path fill=\"#39e581\" fill-opacity=\"0.980392\" stroke=\"#000000\" d=\"M265.3958,-292C265.3958,-292 132.3591,-292 132.3591,-292 126.3591,-292 120.3591,-286 120.3591,-280 120.3591,-280 120.3591,-226 120.3591,-226 120.3591,-220 126.3591,-214 132.3591,-214 132.3591,-214 265.3958,-214 265.3958,-214 271.3958,-214 277.3958,-220 277.3958,-226 277.3958,-226 277.3958,-280 277.3958,-280 277.3958,-286 271.3958,-292 265.3958,-292\"/>\n",
       "<text text-anchor=\"start\" x=\"128.1187\" y=\"-276.8\" font-family=\"Helvetica,sans-Serif\" font-size=\"14.00\" fill=\"#000000\">petal width (cm) ≤ 1.65</text>\n",
       "<text text-anchor=\"start\" x=\"162.4863\" y=\"-262.8\" font-family=\"Helvetica,sans-Serif\" font-size=\"14.00\" fill=\"#000000\">gini = 0.041</text>\n",
       "<text text-anchor=\"start\" x=\"157.0483\" y=\"-248.8\" font-family=\"Helvetica,sans-Serif\" font-size=\"14.00\" fill=\"#000000\">samples = 48</text>\n",
       "<text text-anchor=\"start\" x=\"146.9243\" y=\"-234.8\" font-family=\"Helvetica,sans-Serif\" font-size=\"14.00\" fill=\"#000000\">value = [0, 47, 1]</text>\n",
       "<text text-anchor=\"start\" x=\"145\" y=\"-220.8\" font-family=\"Helvetica,sans-Serif\" font-size=\"14.00\" fill=\"#000000\">class = versicolor</text>\n",
       "</g>\n",
       "<!-- 3&#45;&gt;4 -->\n",
       "<g id=\"edge4\" class=\"edge\">\n",
       "<title>3&#45;&gt;4</title>\n",
       "<path fill=\"none\" stroke=\"#000000\" d=\"M344.131,-327.9272C324.6269,-317.8662 303.5145,-306.9757 283.5872,-296.6965\"/>\n",
       "<polygon fill=\"#000000\" stroke=\"#000000\" points=\"285.0168,-293.4957 274.5249,-292.0218 281.8077,-299.7168 285.0168,-293.4957\"/>\n",
       "</g>\n",
       "<!-- 7 -->\n",
       "<g id=\"node8\" class=\"node\">\n",
       "<title>7</title>\n",
       "<path fill=\"#8139e5\" fill-opacity=\"0.498039\" stroke=\"#000000\" d=\"M486.3958,-292C486.3958,-292 353.3591,-292 353.3591,-292 347.3591,-292 341.3591,-286 341.3591,-280 341.3591,-280 341.3591,-226 341.3591,-226 341.3591,-220 347.3591,-214 353.3591,-214 353.3591,-214 486.3958,-214 486.3958,-214 492.3958,-214 498.3958,-220 498.3958,-226 498.3958,-226 498.3958,-280 498.3958,-280 498.3958,-286 492.3958,-292 486.3958,-292\"/>\n",
       "<text text-anchor=\"start\" x=\"349.1187\" y=\"-276.8\" font-family=\"Helvetica,sans-Serif\" font-size=\"14.00\" fill=\"#000000\">petal width (cm) ≤ 1.55</text>\n",
       "<text text-anchor=\"start\" x=\"383.4863\" y=\"-262.8\" font-family=\"Helvetica,sans-Serif\" font-size=\"14.00\" fill=\"#000000\">gini = 0.444</text>\n",
       "<text text-anchor=\"start\" x=\"381.9414\" y=\"-248.8\" font-family=\"Helvetica,sans-Serif\" font-size=\"14.00\" fill=\"#000000\">samples = 6</text>\n",
       "<text text-anchor=\"start\" x=\"371.8174\" y=\"-234.8\" font-family=\"Helvetica,sans-Serif\" font-size=\"14.00\" fill=\"#000000\">value = [0, 2, 4]</text>\n",
       "<text text-anchor=\"start\" x=\"370.2759\" y=\"-220.8\" font-family=\"Helvetica,sans-Serif\" font-size=\"14.00\" fill=\"#000000\">class = virginica</text>\n",
       "</g>\n",
       "<!-- 3&#45;&gt;7 -->\n",
       "<g id=\"edge7\" class=\"edge\">\n",
       "<title>3&#45;&gt;7</title>\n",
       "<path fill=\"none\" stroke=\"#000000\" d=\"M419.8774,-327.7677C419.8774,-319.6172 419.8774,-310.9283 419.8774,-302.4649\"/>\n",
       "<polygon fill=\"#000000\" stroke=\"#000000\" points=\"423.3775,-302.3046 419.8774,-292.3046 416.3775,-302.3047 423.3775,-302.3046\"/>\n",
       "</g>\n",
       "<!-- 5 -->\n",
       "<g id=\"node6\" class=\"node\">\n",
       "<title>5</title>\n",
       "<path fill=\"#39e581\" stroke=\"#000000\" d=\"M111.6326,-171C111.6326,-171 12.1223,-171 12.1223,-171 6.1223,-171 .1223,-165 .1223,-159 .1223,-159 .1223,-119 .1223,-119 .1223,-113 6.1223,-107 12.1223,-107 12.1223,-107 111.6326,-107 111.6326,-107 117.6326,-107 123.6326,-113 123.6326,-119 123.6326,-119 123.6326,-159 123.6326,-159 123.6326,-165 117.6326,-171 111.6326,-171\"/>\n",
       "<text text-anchor=\"start\" x=\"33.2725\" y=\"-155.8\" font-family=\"Helvetica,sans-Serif\" font-size=\"14.00\" fill=\"#000000\">gini = 0.0</text>\n",
       "<text text-anchor=\"start\" x=\"20.0483\" y=\"-141.8\" font-family=\"Helvetica,sans-Serif\" font-size=\"14.00\" fill=\"#000000\">samples = 47</text>\n",
       "<text text-anchor=\"start\" x=\"9.9243\" y=\"-127.8\" font-family=\"Helvetica,sans-Serif\" font-size=\"14.00\" fill=\"#000000\">value = [0, 47, 0]</text>\n",
       "<text text-anchor=\"start\" x=\"8\" y=\"-113.8\" font-family=\"Helvetica,sans-Serif\" font-size=\"14.00\" fill=\"#000000\">class = versicolor</text>\n",
       "</g>\n",
       "<!-- 4&#45;&gt;5 -->\n",
       "<g id=\"edge5\" class=\"edge\">\n",
       "<title>4&#45;&gt;5</title>\n",
       "<path fill=\"none\" stroke=\"#000000\" d=\"M151.7298,-213.7677C137.7541,-202.1383 122.4609,-189.4125 108.5175,-177.81\"/>\n",
       "<polygon fill=\"#000000\" stroke=\"#000000\" points=\"110.4096,-174.8312 100.484,-171.1252 105.9321,-180.2119 110.4096,-174.8312\"/>\n",
       "</g>\n",
       "<!-- 6 -->\n",
       "<g id=\"node7\" class=\"node\">\n",
       "<title>6</title>\n",
       "<path fill=\"#8139e5\" stroke=\"#000000\" d=\"M244.5807,-171C244.5807,-171 153.1741,-171 153.1741,-171 147.1741,-171 141.1741,-165 141.1741,-159 141.1741,-159 141.1741,-119 141.1741,-119 141.1741,-113 147.1741,-107 153.1741,-107 153.1741,-107 244.5807,-107 244.5807,-107 250.5807,-107 256.5807,-113 256.5807,-119 256.5807,-119 256.5807,-159 256.5807,-159 256.5807,-165 250.5807,-171 244.5807,-171\"/>\n",
       "<text text-anchor=\"start\" x=\"170.2725\" y=\"-155.8\" font-family=\"Helvetica,sans-Serif\" font-size=\"14.00\" fill=\"#000000\">gini = 0.0</text>\n",
       "<text text-anchor=\"start\" x=\"160.9414\" y=\"-141.8\" font-family=\"Helvetica,sans-Serif\" font-size=\"14.00\" fill=\"#000000\">samples = 1</text>\n",
       "<text text-anchor=\"start\" x=\"150.8174\" y=\"-127.8\" font-family=\"Helvetica,sans-Serif\" font-size=\"14.00\" fill=\"#000000\">value = [0, 0, 1]</text>\n",
       "<text text-anchor=\"start\" x=\"149.2759\" y=\"-113.8\" font-family=\"Helvetica,sans-Serif\" font-size=\"14.00\" fill=\"#000000\">class = virginica</text>\n",
       "</g>\n",
       "<!-- 4&#45;&gt;6 -->\n",
       "<g id=\"edge6\" class=\"edge\">\n",
       "<title>4&#45;&gt;6</title>\n",
       "<path fill=\"none\" stroke=\"#000000\" d=\"M198.8774,-213.7677C198.8774,-203.3338 198.8774,-192.0174 198.8774,-181.4215\"/>\n",
       "<polygon fill=\"#000000\" stroke=\"#000000\" points=\"202.3775,-181.1252 198.8774,-171.1252 195.3775,-181.1252 202.3775,-181.1252\"/>\n",
       "</g>\n",
       "<!-- 8 -->\n",
       "<g id=\"node9\" class=\"node\">\n",
       "<title>8</title>\n",
       "<path fill=\"#8139e5\" stroke=\"#000000\" d=\"M377.5807,-171C377.5807,-171 286.1741,-171 286.1741,-171 280.1741,-171 274.1741,-165 274.1741,-159 274.1741,-159 274.1741,-119 274.1741,-119 274.1741,-113 280.1741,-107 286.1741,-107 286.1741,-107 377.5807,-107 377.5807,-107 383.5807,-107 389.5807,-113 389.5807,-119 389.5807,-119 389.5807,-159 389.5807,-159 389.5807,-165 383.5807,-171 377.5807,-171\"/>\n",
       "<text text-anchor=\"start\" x=\"303.2725\" y=\"-155.8\" font-family=\"Helvetica,sans-Serif\" font-size=\"14.00\" fill=\"#000000\">gini = 0.0</text>\n",
       "<text text-anchor=\"start\" x=\"293.9414\" y=\"-141.8\" font-family=\"Helvetica,sans-Serif\" font-size=\"14.00\" fill=\"#000000\">samples = 3</text>\n",
       "<text text-anchor=\"start\" x=\"283.8174\" y=\"-127.8\" font-family=\"Helvetica,sans-Serif\" font-size=\"14.00\" fill=\"#000000\">value = [0, 0, 3]</text>\n",
       "<text text-anchor=\"start\" x=\"282.2759\" y=\"-113.8\" font-family=\"Helvetica,sans-Serif\" font-size=\"14.00\" fill=\"#000000\">class = virginica</text>\n",
       "</g>\n",
       "<!-- 7&#45;&gt;8 -->\n",
       "<g id=\"edge8\" class=\"edge\">\n",
       "<title>7&#45;&gt;8</title>\n",
       "<path fill=\"none\" stroke=\"#000000\" d=\"M389.5928,-213.7677C380.9513,-202.573 371.5256,-190.3624 362.844,-179.1158\"/>\n",
       "<polygon fill=\"#000000\" stroke=\"#000000\" points=\"365.557,-176.9024 356.6758,-171.1252 360.0158,-181.1798 365.557,-176.9024\"/>\n",
       "</g>\n",
       "<!-- 9 -->\n",
       "<g id=\"node10\" class=\"node\">\n",
       "<title>9</title>\n",
       "<path fill=\"#39e581\" fill-opacity=\"0.498039\" stroke=\"#000000\" d=\"M558.3569,-178C558.3569,-178 419.3979,-178 419.3979,-178 413.3979,-178 407.3979,-172 407.3979,-166 407.3979,-166 407.3979,-112 407.3979,-112 407.3979,-106 413.3979,-100 419.3979,-100 419.3979,-100 558.3569,-100 558.3569,-100 564.3569,-100 570.3569,-106 570.3569,-112 570.3569,-112 570.3569,-166 570.3569,-166 570.3569,-172 564.3569,-178 558.3569,-178\"/>\n",
       "<text text-anchor=\"start\" x=\"415.3877\" y=\"-162.8\" font-family=\"Helvetica,sans-Serif\" font-size=\"14.00\" fill=\"#000000\">petal length (cm) ≤ 5.45</text>\n",
       "<text text-anchor=\"start\" x=\"452.4863\" y=\"-148.8\" font-family=\"Helvetica,sans-Serif\" font-size=\"14.00\" fill=\"#000000\">gini = 0.444</text>\n",
       "<text text-anchor=\"start\" x=\"450.9414\" y=\"-134.8\" font-family=\"Helvetica,sans-Serif\" font-size=\"14.00\" fill=\"#000000\">samples = 3</text>\n",
       "<text text-anchor=\"start\" x=\"440.8174\" y=\"-120.8\" font-family=\"Helvetica,sans-Serif\" font-size=\"14.00\" fill=\"#000000\">value = [0, 2, 1]</text>\n",
       "<text text-anchor=\"start\" x=\"435\" y=\"-106.8\" font-family=\"Helvetica,sans-Serif\" font-size=\"14.00\" fill=\"#000000\">class = versicolor</text>\n",
       "</g>\n",
       "<!-- 7&#45;&gt;9 -->\n",
       "<g id=\"edge9\" class=\"edge\">\n",
       "<title>7&#45;&gt;9</title>\n",
       "<path fill=\"none\" stroke=\"#000000\" d=\"M443.6233,-213.7677C448.8275,-205.1694 454.3945,-195.9718 459.7812,-187.072\"/>\n",
       "<polygon fill=\"#000000\" stroke=\"#000000\" points=\"462.904,-188.672 465.0878,-178.3046 456.9155,-185.0473 462.904,-188.672\"/>\n",
       "</g>\n",
       "<!-- 10 -->\n",
       "<g id=\"node11\" class=\"node\">\n",
       "<title>10</title>\n",
       "<path fill=\"#39e581\" stroke=\"#000000\" d=\"M469.6326,-64C469.6326,-64 370.1223,-64 370.1223,-64 364.1223,-64 358.1223,-58 358.1223,-52 358.1223,-52 358.1223,-12 358.1223,-12 358.1223,-6 364.1223,0 370.1223,0 370.1223,0 469.6326,0 469.6326,0 475.6326,0 481.6326,-6 481.6326,-12 481.6326,-12 481.6326,-52 481.6326,-52 481.6326,-58 475.6326,-64 469.6326,-64\"/>\n",
       "<text text-anchor=\"start\" x=\"391.2725\" y=\"-48.8\" font-family=\"Helvetica,sans-Serif\" font-size=\"14.00\" fill=\"#000000\">gini = 0.0</text>\n",
       "<text text-anchor=\"start\" x=\"381.9414\" y=\"-34.8\" font-family=\"Helvetica,sans-Serif\" font-size=\"14.00\" fill=\"#000000\">samples = 2</text>\n",
       "<text text-anchor=\"start\" x=\"371.8174\" y=\"-20.8\" font-family=\"Helvetica,sans-Serif\" font-size=\"14.00\" fill=\"#000000\">value = [0, 2, 0]</text>\n",
       "<text text-anchor=\"start\" x=\"366\" y=\"-6.8\" font-family=\"Helvetica,sans-Serif\" font-size=\"14.00\" fill=\"#000000\">class = versicolor</text>\n",
       "</g>\n",
       "<!-- 9&#45;&gt;10 -->\n",
       "<g id=\"edge10\" class=\"edge\">\n",
       "<title>9&#45;&gt;10</title>\n",
       "<path fill=\"none\" stroke=\"#000000\" d=\"M463.5762,-99.7647C457.9223,-90.9971 451.9128,-81.678 446.2179,-72.8469\"/>\n",
       "<polygon fill=\"#000000\" stroke=\"#000000\" points=\"449.0138,-70.7242 440.6528,-64.2169 443.1309,-74.5178 449.0138,-70.7242\"/>\n",
       "</g>\n",
       "<!-- 11 -->\n",
       "<g id=\"node12\" class=\"node\">\n",
       "<title>11</title>\n",
       "<path fill=\"#8139e5\" stroke=\"#000000\" d=\"M602.5807,-64C602.5807,-64 511.1741,-64 511.1741,-64 505.1741,-64 499.1741,-58 499.1741,-52 499.1741,-52 499.1741,-12 499.1741,-12 499.1741,-6 505.1741,0 511.1741,0 511.1741,0 602.5807,0 602.5807,0 608.5807,0 614.5807,-6 614.5807,-12 614.5807,-12 614.5807,-52 614.5807,-52 614.5807,-58 608.5807,-64 602.5807,-64\"/>\n",
       "<text text-anchor=\"start\" x=\"528.2725\" y=\"-48.8\" font-family=\"Helvetica,sans-Serif\" font-size=\"14.00\" fill=\"#000000\">gini = 0.0</text>\n",
       "<text text-anchor=\"start\" x=\"518.9414\" y=\"-34.8\" font-family=\"Helvetica,sans-Serif\" font-size=\"14.00\" fill=\"#000000\">samples = 1</text>\n",
       "<text text-anchor=\"start\" x=\"508.8174\" y=\"-20.8\" font-family=\"Helvetica,sans-Serif\" font-size=\"14.00\" fill=\"#000000\">value = [0, 0, 1]</text>\n",
       "<text text-anchor=\"start\" x=\"507.2759\" y=\"-6.8\" font-family=\"Helvetica,sans-Serif\" font-size=\"14.00\" fill=\"#000000\">class = virginica</text>\n",
       "</g>\n",
       "<!-- 9&#45;&gt;11 -->\n",
       "<g id=\"edge11\" class=\"edge\">\n",
       "<title>9&#45;&gt;11</title>\n",
       "<path fill=\"none\" stroke=\"#000000\" d=\"M513.812,-99.7647C519.384,-90.9971 525.3064,-81.678 530.9187,-72.8469\"/>\n",
       "<polygon fill=\"#000000\" stroke=\"#000000\" points=\"533.9934,-74.534 536.4032,-64.2169 528.0855,-70.7795 533.9934,-74.534\"/>\n",
       "</g>\n",
       "<!-- 13 -->\n",
       "<g id=\"node14\" class=\"node\">\n",
       "<title>13</title>\n",
       "<path fill=\"#8139e5\" fill-opacity=\"0.498039\" stroke=\"#000000\" d=\"M710.2193,-292C710.2193,-292 581.5356,-292 581.5356,-292 575.5356,-292 569.5356,-286 569.5356,-280 569.5356,-280 569.5356,-226 569.5356,-226 569.5356,-220 575.5356,-214 581.5356,-214 581.5356,-214 710.2193,-214 710.2193,-214 716.2193,-214 722.2193,-220 722.2193,-226 722.2193,-226 722.2193,-280 722.2193,-280 722.2193,-286 716.2193,-292 710.2193,-292\"/>\n",
       "<text text-anchor=\"start\" x=\"577.4565\" y=\"-276.8\" font-family=\"Helvetica,sans-Serif\" font-size=\"14.00\" fill=\"#000000\">sepal width (cm) ≤ 3.1</text>\n",
       "<text text-anchor=\"start\" x=\"609.4863\" y=\"-262.8\" font-family=\"Helvetica,sans-Serif\" font-size=\"14.00\" fill=\"#000000\">gini = 0.444</text>\n",
       "<text text-anchor=\"start\" x=\"607.9414\" y=\"-248.8\" font-family=\"Helvetica,sans-Serif\" font-size=\"14.00\" fill=\"#000000\">samples = 3</text>\n",
       "<text text-anchor=\"start\" x=\"597.8174\" y=\"-234.8\" font-family=\"Helvetica,sans-Serif\" font-size=\"14.00\" fill=\"#000000\">value = [0, 1, 2]</text>\n",
       "<text text-anchor=\"start\" x=\"596.2759\" y=\"-220.8\" font-family=\"Helvetica,sans-Serif\" font-size=\"14.00\" fill=\"#000000\">class = virginica</text>\n",
       "</g>\n",
       "<!-- 12&#45;&gt;13 -->\n",
       "<g id=\"edge13\" class=\"edge\">\n",
       "<title>12&#45;&gt;13</title>\n",
       "<path fill=\"none\" stroke=\"#000000\" d=\"M645.8774,-327.7677C645.8774,-319.6172 645.8774,-310.9283 645.8774,-302.4649\"/>\n",
       "<polygon fill=\"#000000\" stroke=\"#000000\" points=\"649.3775,-302.3046 645.8774,-292.3046 642.3775,-302.3047 649.3775,-302.3046\"/>\n",
       "</g>\n",
       "<!-- 16 -->\n",
       "<g id=\"node17\" class=\"node\">\n",
       "<title>16</title>\n",
       "<path fill=\"#8139e5\" stroke=\"#000000\" d=\"M847.7837,-285C847.7837,-285 751.9712,-285 751.9712,-285 745.9712,-285 739.9712,-279 739.9712,-273 739.9712,-273 739.9712,-233 739.9712,-233 739.9712,-227 745.9712,-221 751.9712,-221 751.9712,-221 847.7837,-221 847.7837,-221 853.7837,-221 859.7837,-227 859.7837,-233 859.7837,-233 859.7837,-273 859.7837,-273 859.7837,-279 853.7837,-285 847.7837,-285\"/>\n",
       "<text text-anchor=\"start\" x=\"771.2725\" y=\"-269.8\" font-family=\"Helvetica,sans-Serif\" font-size=\"14.00\" fill=\"#000000\">gini = 0.0</text>\n",
       "<text text-anchor=\"start\" x=\"758.0483\" y=\"-255.8\" font-family=\"Helvetica,sans-Serif\" font-size=\"14.00\" fill=\"#000000\">samples = 43</text>\n",
       "<text text-anchor=\"start\" x=\"747.9243\" y=\"-241.8\" font-family=\"Helvetica,sans-Serif\" font-size=\"14.00\" fill=\"#000000\">value = [0, 0, 43]</text>\n",
       "<text text-anchor=\"start\" x=\"750.2759\" y=\"-227.8\" font-family=\"Helvetica,sans-Serif\" font-size=\"14.00\" fill=\"#000000\">class = virginica</text>\n",
       "</g>\n",
       "<!-- 12&#45;&gt;16 -->\n",
       "<g id=\"edge16\" class=\"edge\">\n",
       "<title>12&#45;&gt;16</title>\n",
       "<path fill=\"none\" stroke=\"#000000\" d=\"M698.8755,-327.7677C714.879,-315.9209 732.4195,-302.9364 748.3272,-291.1606\"/>\n",
       "<polygon fill=\"#000000\" stroke=\"#000000\" points=\"750.5252,-293.8881 756.4802,-285.1252 746.3604,-288.2619 750.5252,-293.8881\"/>\n",
       "</g>\n",
       "<!-- 14 -->\n",
       "<g id=\"node15\" class=\"node\">\n",
       "<title>14</title>\n",
       "<path fill=\"#8139e5\" stroke=\"#000000\" d=\"M691.5807,-171C691.5807,-171 600.1741,-171 600.1741,-171 594.1741,-171 588.1741,-165 588.1741,-159 588.1741,-159 588.1741,-119 588.1741,-119 588.1741,-113 594.1741,-107 600.1741,-107 600.1741,-107 691.5807,-107 691.5807,-107 697.5807,-107 703.5807,-113 703.5807,-119 703.5807,-119 703.5807,-159 703.5807,-159 703.5807,-165 697.5807,-171 691.5807,-171\"/>\n",
       "<text text-anchor=\"start\" x=\"617.2725\" y=\"-155.8\" font-family=\"Helvetica,sans-Serif\" font-size=\"14.00\" fill=\"#000000\">gini = 0.0</text>\n",
       "<text text-anchor=\"start\" x=\"607.9414\" y=\"-141.8\" font-family=\"Helvetica,sans-Serif\" font-size=\"14.00\" fill=\"#000000\">samples = 2</text>\n",
       "<text text-anchor=\"start\" x=\"597.8174\" y=\"-127.8\" font-family=\"Helvetica,sans-Serif\" font-size=\"14.00\" fill=\"#000000\">value = [0, 0, 2]</text>\n",
       "<text text-anchor=\"start\" x=\"596.2759\" y=\"-113.8\" font-family=\"Helvetica,sans-Serif\" font-size=\"14.00\" fill=\"#000000\">class = virginica</text>\n",
       "</g>\n",
       "<!-- 13&#45;&gt;14 -->\n",
       "<g id=\"edge14\" class=\"edge\">\n",
       "<title>13&#45;&gt;14</title>\n",
       "<path fill=\"none\" stroke=\"#000000\" d=\"M645.8774,-213.7677C645.8774,-203.3338 645.8774,-192.0174 645.8774,-181.4215\"/>\n",
       "<polygon fill=\"#000000\" stroke=\"#000000\" points=\"649.3775,-181.1252 645.8774,-171.1252 642.3775,-181.1252 649.3775,-181.1252\"/>\n",
       "</g>\n",
       "<!-- 15 -->\n",
       "<g id=\"node16\" class=\"node\">\n",
       "<title>15</title>\n",
       "<path fill=\"#39e581\" stroke=\"#000000\" d=\"M832.6326,-171C832.6326,-171 733.1223,-171 733.1223,-171 727.1223,-171 721.1223,-165 721.1223,-159 721.1223,-159 721.1223,-119 721.1223,-119 721.1223,-113 727.1223,-107 733.1223,-107 733.1223,-107 832.6326,-107 832.6326,-107 838.6326,-107 844.6326,-113 844.6326,-119 844.6326,-119 844.6326,-159 844.6326,-159 844.6326,-165 838.6326,-171 832.6326,-171\"/>\n",
       "<text text-anchor=\"start\" x=\"754.2725\" y=\"-155.8\" font-family=\"Helvetica,sans-Serif\" font-size=\"14.00\" fill=\"#000000\">gini = 0.0</text>\n",
       "<text text-anchor=\"start\" x=\"744.9414\" y=\"-141.8\" font-family=\"Helvetica,sans-Serif\" font-size=\"14.00\" fill=\"#000000\">samples = 1</text>\n",
       "<text text-anchor=\"start\" x=\"734.8174\" y=\"-127.8\" font-family=\"Helvetica,sans-Serif\" font-size=\"14.00\" fill=\"#000000\">value = [0, 1, 0]</text>\n",
       "<text text-anchor=\"start\" x=\"729\" y=\"-113.8\" font-family=\"Helvetica,sans-Serif\" font-size=\"14.00\" fill=\"#000000\">class = versicolor</text>\n",
       "</g>\n",
       "<!-- 13&#45;&gt;15 -->\n",
       "<g id=\"edge15\" class=\"edge\">\n",
       "<title>13&#45;&gt;15</title>\n",
       "<path fill=\"none\" stroke=\"#000000\" d=\"M693.0251,-213.7677C707.0008,-202.1383 722.294,-189.4125 736.2374,-177.81\"/>\n",
       "<polygon fill=\"#000000\" stroke=\"#000000\" points=\"738.8227,-180.2119 744.2708,-171.1252 734.3453,-174.8312 738.8227,-180.2119\"/>\n",
       "</g>\n",
       "</g>\n",
       "</svg>\n"
      ],
      "text/plain": [
       "<graphviz.files.Source at 0x1a1dbeb240>"
      ]
     },
     "execution_count": 16,
     "metadata": {},
     "output_type": "execute_result"
    }
   ],
   "source": [
    "import graphviz\n",
    "dot_data = tree.export_graphviz(\n",
    "    clf, out_file = None,\n",
    "    feature_names = iris.feature_names,\n",
    "    class_names = iris.target_names,\n",
    "    filled = True, rounded = True,\n",
    "    special_characters = True)\n",
    "\n",
    "import pydotplus\n",
    "graph = pydotplus.graph_from_dot_data(dot_data)\n",
    "graph.write_png('iris.png')\n",
    "\n",
    "graph = graphviz.Source(dot_data)\n",
    "graph"
   ]
  },
  {
   "cell_type": "markdown",
   "metadata": {},
   "source": [
    "### Random Forest"
   ]
  },
  {
   "cell_type": "code",
   "execution_count": 17,
   "metadata": {},
   "outputs": [],
   "source": [
    "from sklearn.ensemble import RandomForestClassifier\n",
    "from sklearn.datasets import load_iris"
   ]
  },
  {
   "cell_type": "code",
   "execution_count": 18,
   "metadata": {},
   "outputs": [
    {
     "name": "stdout",
     "output_type": "stream",
     "text": [
      ".. _iris_dataset:\n",
      "\n",
      "Iris plants dataset\n",
      "--------------------\n",
      "\n",
      "**Data Set Characteristics:**\n",
      "\n",
      "    :Number of Instances: 150 (50 in each of three classes)\n",
      "    :Number of Attributes: 4 numeric, predictive attributes and the class\n",
      "    :Attribute Information:\n",
      "        - sepal length in cm\n",
      "        - sepal width in cm\n",
      "        - petal length in cm\n",
      "        - petal width in cm\n",
      "        - class:\n",
      "                - Iris-Setosa\n",
      "                - Iris-Versicolour\n",
      "                - Iris-Virginica\n",
      "                \n",
      "    :Summary Statistics:\n",
      "\n",
      "    ============== ==== ==== ======= ===== ====================\n",
      "                    Min  Max   Mean    SD   Class Correlation\n",
      "    ============== ==== ==== ======= ===== ====================\n",
      "    sepal length:   4.3  7.9   5.84   0.83    0.7826\n",
      "    sepal width:    2.0  4.4   3.05   0.43   -0.4194\n",
      "    petal length:   1.0  6.9   3.76   1.76    0.9490  (high!)\n",
      "    petal width:    0.1  2.5   1.20   0.76    0.9565  (high!)\n",
      "    ============== ==== ==== ======= ===== ====================\n",
      "\n",
      "    :Missing Attribute Values: None\n",
      "    :Class Distribution: 33.3% for each of 3 classes.\n",
      "    :Creator: R.A. Fisher\n",
      "    :Donor: Michael Marshall (MARSHALL%PLU@io.arc.nasa.gov)\n",
      "    :Date: July, 1988\n",
      "\n",
      "The famous Iris database, first used by Sir R.A. Fisher. The dataset is taken\n",
      "from Fisher's paper. Note that it's the same as in R, but not as in the UCI\n",
      "Machine Learning Repository, which has two wrong data points.\n",
      "\n",
      "This is perhaps the best known database to be found in the\n",
      "pattern recognition literature.  Fisher's paper is a classic in the field and\n",
      "is referenced frequently to this day.  (See Duda & Hart, for example.)  The\n",
      "data set contains 3 classes of 50 instances each, where each class refers to a\n",
      "type of iris plant.  One class is linearly separable from the other 2; the\n",
      "latter are NOT linearly separable from each other.\n",
      "\n",
      ".. topic:: References\n",
      "\n",
      "   - Fisher, R.A. \"The use of multiple measurements in taxonomic problems\"\n",
      "     Annual Eugenics, 7, Part II, 179-188 (1936); also in \"Contributions to\n",
      "     Mathematical Statistics\" (John Wiley, NY, 1950).\n",
      "   - Duda, R.O., & Hart, P.E. (1973) Pattern Classification and Scene Analysis.\n",
      "     (Q327.D83) John Wiley & Sons.  ISBN 0-471-22361-1.  See page 218.\n",
      "   - Dasarathy, B.V. (1980) \"Nosing Around the Neighborhood: A New System\n",
      "     Structure and Classification Rule for Recognition in Partially Exposed\n",
      "     Environments\".  IEEE Transactions on Pattern Analysis and Machine\n",
      "     Intelligence, Vol. PAMI-2, No. 1, 67-71.\n",
      "   - Gates, G.W. (1972) \"The Reduced Nearest Neighbor Rule\".  IEEE Transactions\n",
      "     on Information Theory, May 1972, 431-433.\n",
      "   - See also: 1988 MLC Proceedings, 54-64.  Cheeseman et al\"s AUTOCLASS II\n",
      "     conceptual clustering system finds 3 classes in the data.\n",
      "   - Many, many more ...\n"
     ]
    }
   ],
   "source": [
    "#load the iris dataset\n",
    "iris = load_iris()\n",
    "print(iris.DESCR)"
   ]
  },
  {
   "cell_type": "code",
   "execution_count": 30,
   "metadata": {},
   "outputs": [
    {
     "data": {
      "text/plain": [
       "0.9866666666666667"
      ]
     },
     "execution_count": 30,
     "metadata": {},
     "output_type": "execute_result"
    }
   ],
   "source": [
    "#create a random forest classifer\n",
    "rf = RandomForestClassifier(n_estimators=3)\n",
    "rf = rf.fit(iris.data, iris.target)\n",
    "rf.score(iris.data, iris.target)"
   ]
  },
  {
   "cell_type": "code",
   "execution_count": 31,
   "metadata": {},
   "outputs": [
    {
     "data": {
      "text/plain": [
       "array([0.05354874, 0.00603702, 0.32190809, 0.61850616])"
      ]
     },
     "execution_count": 31,
     "metadata": {},
     "output_type": "execute_result"
    }
   ],
   "source": [
    "#Random Forest in sklearn will automatically calculate feature importance\n",
    "importances = rf.feature_importances_\n",
    "importances"
   ]
  },
  {
   "cell_type": "code",
   "execution_count": 32,
   "metadata": {},
   "outputs": [
    {
     "data": {
      "text/plain": [
       "[(0.6185061597720193, 'petal width (cm)'),\n",
       " (0.3219080867666162, 'petal length (cm)'),\n",
       " (0.05354873807768649, 'sepal length (cm)'),\n",
       " (0.006037015383677992, 'sepal width (cm)')]"
      ]
     },
     "execution_count": 32,
     "metadata": {},
     "output_type": "execute_result"
    }
   ],
   "source": [
    "#We can sort the features by their importance\n",
    "sorted(zip(rf.feature_importances_, iris.feature_names), reverse=True)"
   ]
  },
  {
   "cell_type": "markdown",
   "metadata": {},
   "source": [
    "## Diabetes - Student"
   ]
  },
  {
   "cell_type": "code",
   "execution_count": 1,
   "metadata": {},
   "outputs": [],
   "source": [
    "from sklearn import tree\n",
    "from sklearn.ensemble import RandomForestClassifier\n",
    "from sklearn.linear_model import LogisticRegression\n",
    "\n",
    "import pandas as pd\n",
    "\n",
    "import pydotplus\n",
    "import graphviz"
   ]
  },
  {
   "cell_type": "code",
   "execution_count": 2,
   "metadata": {},
   "outputs": [
    {
     "data": {
      "text/html": [
       "<div>\n",
       "<style scoped>\n",
       "    .dataframe tbody tr th:only-of-type {\n",
       "        vertical-align: middle;\n",
       "    }\n",
       "\n",
       "    .dataframe tbody tr th {\n",
       "        vertical-align: top;\n",
       "    }\n",
       "\n",
       "    .dataframe thead th {\n",
       "        text-align: right;\n",
       "    }\n",
       "</style>\n",
       "<table border=\"1\" class=\"dataframe\">\n",
       "  <thead>\n",
       "    <tr style=\"text-align: right;\">\n",
       "      <th></th>\n",
       "      <th>Pregnancies</th>\n",
       "      <th>Glucose</th>\n",
       "      <th>BloodPressure</th>\n",
       "      <th>SkinThickness</th>\n",
       "      <th>Insulin</th>\n",
       "      <th>BMI</th>\n",
       "      <th>DiabetesPedigreeFunction</th>\n",
       "      <th>Age</th>\n",
       "      <th>Outcome</th>\n",
       "    </tr>\n",
       "  </thead>\n",
       "  <tbody>\n",
       "    <tr>\n",
       "      <th>0</th>\n",
       "      <td>6</td>\n",
       "      <td>148</td>\n",
       "      <td>72</td>\n",
       "      <td>35</td>\n",
       "      <td>0</td>\n",
       "      <td>33.6</td>\n",
       "      <td>0.627</td>\n",
       "      <td>50</td>\n",
       "      <td>1</td>\n",
       "    </tr>\n",
       "    <tr>\n",
       "      <th>1</th>\n",
       "      <td>1</td>\n",
       "      <td>85</td>\n",
       "      <td>66</td>\n",
       "      <td>29</td>\n",
       "      <td>0</td>\n",
       "      <td>26.6</td>\n",
       "      <td>0.351</td>\n",
       "      <td>31</td>\n",
       "      <td>0</td>\n",
       "    </tr>\n",
       "    <tr>\n",
       "      <th>2</th>\n",
       "      <td>8</td>\n",
       "      <td>183</td>\n",
       "      <td>64</td>\n",
       "      <td>0</td>\n",
       "      <td>0</td>\n",
       "      <td>23.3</td>\n",
       "      <td>0.672</td>\n",
       "      <td>32</td>\n",
       "      <td>1</td>\n",
       "    </tr>\n",
       "    <tr>\n",
       "      <th>3</th>\n",
       "      <td>1</td>\n",
       "      <td>89</td>\n",
       "      <td>66</td>\n",
       "      <td>23</td>\n",
       "      <td>94</td>\n",
       "      <td>28.1</td>\n",
       "      <td>0.167</td>\n",
       "      <td>21</td>\n",
       "      <td>0</td>\n",
       "    </tr>\n",
       "    <tr>\n",
       "      <th>4</th>\n",
       "      <td>0</td>\n",
       "      <td>137</td>\n",
       "      <td>40</td>\n",
       "      <td>35</td>\n",
       "      <td>168</td>\n",
       "      <td>43.1</td>\n",
       "      <td>2.288</td>\n",
       "      <td>33</td>\n",
       "      <td>1</td>\n",
       "    </tr>\n",
       "  </tbody>\n",
       "</table>\n",
       "</div>"
      ],
      "text/plain": [
       "   Pregnancies  Glucose  BloodPressure  SkinThickness  Insulin   BMI  \\\n",
       "0            6      148             72             35        0  33.6   \n",
       "1            1       85             66             29        0  26.6   \n",
       "2            8      183             64              0        0  23.3   \n",
       "3            1       89             66             23       94  28.1   \n",
       "4            0      137             40             35      168  43.1   \n",
       "\n",
       "   DiabetesPedigreeFunction  Age  Outcome  \n",
       "0                     0.627   50        1  \n",
       "1                     0.351   31        0  \n",
       "2                     0.672   32        1  \n",
       "3                     0.167   21        0  \n",
       "4                     2.288   33        1  "
      ]
     },
     "execution_count": 2,
     "metadata": {},
     "output_type": "execute_result"
    }
   ],
   "source": [
    "frame = pd.read_csv('resources/diabetes.csv')\n",
    "frame.head()"
   ]
  },
  {
   "cell_type": "code",
   "execution_count": 3,
   "metadata": {},
   "outputs": [],
   "source": [
    "data = frame.drop('Outcome',axis=1)\n",
    "\n",
    "target = frame['Outcome']\n",
    "target_names=['negative','positive']"
   ]
  },
  {
   "cell_type": "code",
   "execution_count": 4,
   "metadata": {},
   "outputs": [],
   "source": [
    "feature_names = data.columns"
   ]
  },
  {
   "cell_type": "code",
   "execution_count": null,
   "metadata": {},
   "outputs": [],
   "source": []
  },
  {
   "cell_type": "code",
   "execution_count": 7,
   "metadata": {},
   "outputs": [],
   "source": [
    "from sklearn.model_selection import train_test_split\n",
    "\n",
    "xtrain,xtest,ytrain,ytest=train_test_split(data,target,random_state=42)\n",
    "\n"
   ]
  },
  {
   "cell_type": "markdown",
   "metadata": {},
   "source": [
    "### Decision Tree"
   ]
  },
  {
   "cell_type": "code",
   "execution_count": 8,
   "metadata": {},
   "outputs": [],
   "source": [
    "decisiontree_classifier=tree.DecisionTreeClassifier().fit(xtrain,ytrain)"
   ]
  },
  {
   "cell_type": "code",
   "execution_count": 9,
   "metadata": {},
   "outputs": [
    {
     "name": "stdout",
     "output_type": "stream",
     "text": [
      "train accuracy of Decison Tree Classifier 1.0\n",
      "test accuracy of Decison Tree Classifier 0.6770833333333334\n"
     ]
    }
   ],
   "source": [
    "print(f'train accuracy of Decison Tree Classifier {decisiontree_classifier.score(xtrain,ytrain)}')\n",
    "print(f'test accuracy of Decison Tree Classifier {decisiontree_classifier.score(xtest,ytest)}')"
   ]
  },
  {
   "cell_type": "code",
   "execution_count": 10,
   "metadata": {},
   "outputs": [
    {
     "data": {
      "text/plain": [
       "[(0.3474687017664691, 'Glucose'),\n",
       " (0.1575190094051939, 'BMI'),\n",
       " (0.12867531535826301, 'Age'),\n",
       " (0.10038431723837615, 'BloodPressure'),\n",
       " (0.08575787434757313, 'DiabetesPedigreeFunction'),\n",
       " (0.08234923261170116, 'Pregnancies'),\n",
       " (0.0709414155136168, 'Insulin'),\n",
       " (0.02690413375880687, 'SkinThickness')]"
      ]
     },
     "execution_count": 10,
     "metadata": {},
     "output_type": "execute_result"
    }
   ],
   "source": [
    "sorted(zip(decisiontree_classifier.feature_importances_,feature_names),reverse=True)"
   ]
  },
  {
   "cell_type": "code",
   "execution_count": 11,
   "metadata": {},
   "outputs": [
    {
     "data": {
      "text/plain": [
       "True"
      ]
     },
     "execution_count": 11,
     "metadata": {},
     "output_type": "execute_result"
    }
   ],
   "source": [
    "import graphviz\n",
    "import pydotplus\n",
    "\n",
    "DecisionTree = tree.export_graphviz(decisiontree_classifier,\n",
    "                                    out_file=None,\n",
    "                                    filled=True,\n",
    "                                    special_characters=True,\n",
    "                                    feature_names=feature_names,\n",
    "                                    class_names=target_names\n",
    "                                    )\n",
    "\n",
    "graphviz.Source(DecisionTree)\n",
    "\n",
    "pydotplus.graph_from_dot_data(DecisionTree).write_png('diabetes_decisiontree.png')"
   ]
  },
  {
   "cell_type": "markdown",
   "metadata": {},
   "source": [
    "### Random Forest"
   ]
  },
  {
   "cell_type": "code",
   "execution_count": 12,
   "metadata": {},
   "outputs": [],
   "source": [
    "randomforest_classifier = RandomForestClassifier(n_estimators=200).fit(xtrain,ytrain)"
   ]
  },
  {
   "cell_type": "markdown",
   "metadata": {},
   "source": [
    "##### notice, that the training set is over-fit, not generalizing well to our testing set.\n",
    "\n",
    "is this approach the best approach? it is super complicated. We may not need to go this far in complexity. "
   ]
  },
  {
   "cell_type": "code",
   "execution_count": 13,
   "metadata": {},
   "outputs": [
    {
     "name": "stdout",
     "output_type": "stream",
     "text": [
      "train accuracy of Decison Tree Classifier 1.0\n",
      "test accuracy of Decison Tree Classifier 0.7447916666666666\n"
     ]
    }
   ],
   "source": [
    "print(f'train accuracy of Decison Tree Classifier {randomforest_classifier.score(xtrain,ytrain)}')\n",
    "print(f'test accuracy of Decison Tree Classifier {randomforest_classifier.score(xtest,ytest)}')"
   ]
  },
  {
   "cell_type": "code",
   "execution_count": 14,
   "metadata": {},
   "outputs": [
    {
     "data": {
      "text/plain": [
       "[(0.26527870771112455, 'Glucose'),\n",
       " (0.1583298903866625, 'BMI'),\n",
       " (0.1442697175258638, 'Age'),\n",
       " (0.11862465916154044, 'DiabetesPedigreeFunction'),\n",
       " (0.08634535880434513, 'BloodPressure'),\n",
       " (0.0783557575145454, 'Pregnancies'),\n",
       " (0.07675924606778615, 'SkinThickness'),\n",
       " (0.07203666282813197, 'Insulin')]"
      ]
     },
     "execution_count": 14,
     "metadata": {},
     "output_type": "execute_result"
    }
   ],
   "source": [
    "sorted(zip(randomforest_classifier.feature_importances_,feature_names),reverse=True)"
   ]
  },
  {
   "cell_type": "markdown",
   "metadata": {},
   "source": [
    "---"
   ]
  },
  {
   "cell_type": "markdown",
   "metadata": {},
   "source": [
    "## K Nearest Neighbors\n",
    "\n",
    "Another means to classify data. still working under the umbrella of supervised learning.\n",
    "\n",
    "KNN is a really simple and robust algorithm for classification(and sometimes regression). It has many benefits such as outlier insensitivity, ability to classify non-linear data, a high accuracy.\n",
    "\n",
    "It does require a lot of memory.\n",
    "\n",
    "When K=1, this is simply Nearest Neighbor. You find the point nearest to your new data point and that is the class that the new data point (Green Circle) will belong to. In this case, the closest neighbor is a red triangle, so the data point will belong to red. \n",
    "\n",
    "When K=3, we find the 3 closest neighbors. In this case, there are 2 blue square and 1 red triangle, so the new data point will be grouped with the blue squares.\n",
    "\n",
    "- to avoid any ties we need K to be odd.\n",
    "\n",
    "When K=5, there are 3 red triangles and 2 blue suqares, so the new data point will belong to the red triangles. \n",
    "\n",
    "- we want to do some iternations to percieve the best K\n",
    "\n",
    "When K=7 the majority are red triangles, so the new data point still belongs to red."
   ]
  },
  {
   "cell_type": "markdown",
   "metadata": {},
   "source": [
    "#### Choosing K\n",
    "\n",
    "Because K can vary your results, the easiest technique for choosing a K value is to loop through a range K and calculate the score. Choose the lowest value of K where the score starts to stabalize. Note: We only use odd numbers so there are no ties between classes.\n",
    "\n"
   ]
  },
  {
   "cell_type": "code",
   "execution_count": 17,
   "metadata": {},
   "outputs": [],
   "source": [
    "import matplotlib.pyplot as plt\n",
    "from sklearn.neighbors import KNeighborsClassifier\n",
    "\n",
    "from sklearn.datasets import load_iris\n",
    "from sklearn.model_selection import train_test_split"
   ]
  },
  {
   "cell_type": "code",
   "execution_count": 18,
   "metadata": {},
   "outputs": [],
   "source": [
    "iris = load_iris()"
   ]
  },
  {
   "cell_type": "code",
   "execution_count": 19,
   "metadata": {},
   "outputs": [],
   "source": [
    "X = iris.data\n",
    "y = iris.target"
   ]
  },
  {
   "cell_type": "code",
   "execution_count": 20,
   "metadata": {},
   "outputs": [
    {
     "data": {
      "text/plain": [
       "(150, 4)"
      ]
     },
     "execution_count": 20,
     "metadata": {},
     "output_type": "execute_result"
    }
   ],
   "source": [
    "X.shape"
   ]
  },
  {
   "cell_type": "code",
   "execution_count": 21,
   "metadata": {},
   "outputs": [],
   "source": [
    "xtrain,xtest,ytrain,ytest=train_test_split(X,y,random_state=42,stratify=y)"
   ]
  },
  {
   "cell_type": "code",
   "execution_count": 22,
   "metadata": {},
   "outputs": [
    {
     "name": "stdout",
     "output_type": "stream",
     "text": [
      "[[7.4 2.8 6.1 1.9]\n",
      " [7.7 2.8 6.7 2. ]\n",
      " [5.5 2.4 3.7 1. ]\n",
      " [6.1 2.8 4.  1.3]\n",
      " [5.5 2.5 4.  1.3]\n",
      " [6.3 3.3 6.  2.5]\n",
      " [4.6 3.4 1.4 0.3]\n",
      " [6.3 2.7 4.9 1.8]\n",
      " [4.8 3.1 1.6 0.2]\n",
      " [6.2 2.8 4.8 1.8]\n",
      " [5.1 3.8 1.9 0.4]\n",
      " [6.4 2.7 5.3 1.9]\n",
      " [5.  2.  3.5 1. ]\n",
      " [5.5 4.2 1.4 0.2]\n",
      " [5.2 4.1 1.5 0.1]]\n"
     ]
    }
   ],
   "source": [
    "xtrain.shape\n",
    "print(xtrain[:15])"
   ]
  },
  {
   "cell_type": "code",
   "execution_count": 23,
   "metadata": {},
   "outputs": [
    {
     "name": "stdout",
     "output_type": "stream",
     "text": [
      "[[7.4]\n",
      " [2.8]\n",
      " [6.1]\n",
      " [1.9]\n",
      " [7.7]\n",
      " [2.8]\n",
      " [6.7]\n",
      " [2. ]\n",
      " [5.5]\n",
      " [2.4]\n",
      " [3.7]\n",
      " [1. ]\n",
      " [6.1]\n",
      " [2.8]\n",
      " [4. ]]\n"
     ]
    }
   ],
   "source": [
    "reshape = xtrain.reshape(-1,1)\n",
    "print(reshape[:15])"
   ]
  },
  {
   "cell_type": "code",
   "execution_count": 24,
   "metadata": {},
   "outputs": [],
   "source": [
    "from sklearn.preprocessing import StandardScaler\n",
    "\n",
    "xscaler = StandardScaler().fit(xtrain.reshape(-1,1))\n",
    "\n",
    "xtrain_scaled = xscaler.transform(xtrain)\n",
    "xtest_scaled = xscaler.transform(xtest)"
   ]
  },
  {
   "cell_type": "markdown",
   "metadata": {},
   "source": [
    "Loop through different K values to see which has the highest accuracy \n",
    "Note: We only use odd numbers "
   ]
  },
  {
   "cell_type": "code",
   "execution_count": 29,
   "metadata": {},
   "outputs": [
    {
     "name": "stdout",
     "output_type": "stream",
     "text": [
      "Train/Test Score: 1.000/0.947 K:1\n",
      "Train/Test Score: 0.955/0.974 K:3\n",
      "Train/Test Score: 0.973/0.974 K:5\n",
      "Train/Test Score: 0.973/0.947 K:7\n",
      "Train/Test Score: 0.973/0.974 K:9\n",
      "Train/Test Score: 0.973/0.974 K:11\n",
      "Train/Test Score: 0.982/0.947 K:13\n",
      "Train/Test Score: 0.982/0.947 K:15\n",
      "Train/Test Score: 0.982/0.947 K:17\n",
      "Train/Test Score: 0.982/0.947 K:19\n"
     ]
    }
   ],
   "source": [
    "train_scores = []\n",
    "test_scores = []\n",
    "\n",
    "for K in range(1,20,2):\n",
    "    knn_classifier = KNeighborsClassifier(n_neighbors=K)\n",
    "    knn_classifier.fit(xtrain_scaled,ytrain)\n",
    "    \n",
    "    train_score = knn_classifier.score(xtrain_scaled, ytrain)\n",
    "    test_score = knn_classifier.score(xtest_scaled, ytest)\n",
    "    \n",
    "    train_scores.append(train_score)\n",
    "    test_scores.append(test_score)\n",
    "    \n",
    "    print(f'Train/Test Score: {train_score:.3f}/{test_score:.3f} K:{K}')\n",
    "    "
   ]
  },
  {
   "cell_type": "code",
   "execution_count": 30,
   "metadata": {},
   "outputs": [
    {
     "data": {
      "text/plain": [
       "Text(0, 0.5, 'Testing accuracy Score')"
      ]
     },
     "execution_count": 30,
     "metadata": {},
     "output_type": "execute_result"
    },
    {
     "data": {
      "image/png": "[encoded data removed]",
      "text/plain": [
       "<Figure size 432x288 with 1 Axes>"
      ]
     },
     "metadata": {
      "needs_background": "light"
     },
     "output_type": "display_data"
    }
   ],
   "source": [
    "plt.plot(range(1,20,2), train_scores, marker=\"o\")\n",
    "plt.plot(range(1,20,2), test_scores, marker=\"x\")\n",
    "\n",
    "plt.xlabel('K Neighbors')\n",
    "plt.ylabel('Testing accuracy Score')"
   ]
  },
  {
   "cell_type": "markdown",
   "metadata": {},
   "source": [
    "#### Note: K9 provides the best accuracy where the classifier starts to stabalize"
   ]
  },
  {
   "cell_type": "code",
   "execution_count": 31,
   "metadata": {},
   "outputs": [
    {
     "name": "stdout",
     "output_type": "stream",
     "text": [
      "K=9 Test Acc: 0.974\n"
     ]
    }
   ],
   "source": [
    "knn_classifier = KNeighborsClassifier(n_neighbors=9)\n",
    "knn_classifier.fit(xtrain,ytrain)\n",
    "\n",
    "print('K=9 Test Acc: %.3f' %knn_classifier.score(xtest,ytest))"
   ]
  },
  {
   "cell_type": "markdown",
   "metadata": {},
   "source": [
    "#### Using KNN model to predict with new inputs"
   ]
  },
  {
   "cell_type": "markdown",
   "metadata": {},
   "source": [
    "- noticed there are 4 features in our model, therefore 4 features in our prediction"
   ]
  },
  {
   "cell_type": "code",
   "execution_count": 14,
   "metadata": {},
   "outputs": [
    {
     "name": "stdout",
     "output_type": "stream",
     "text": [
      "[0]\n"
     ]
    }
   ],
   "source": [
    "new_iris_data = [[4.3, 3.2, 1.3, 0.2]]\n",
    "predicted_class = knn_classifier.predict(new_iris_data)\n",
    "print(predicted_class)"
   ]
  },
  {
   "cell_type": "markdown",
   "metadata": {},
   "source": [
    "## Diabetes - KNN"
   ]
  },
  {
   "cell_type": "code",
   "execution_count": 99,
   "metadata": {},
   "outputs": [],
   "source": [
    "import matplotlib.pyplot as plt\n",
    "\n",
    "from sklearn.model_selection import train_test_split\n",
    "from sklearn.preprocessing import StandardScaler\n",
    "from sklearn.neighbors import KNeighborsClassifier\n",
    "\n",
    "import pandas as pd\n",
    "import warnings\n",
    "warnings.simplefilter('ignore')"
   ]
  },
  {
   "cell_type": "code",
   "execution_count": 100,
   "metadata": {},
   "outputs": [],
   "source": [
    "from sklearn.datasets import load_iris\n",
    "\n",
    "diabetes=pd.read_csv('resources/diabetes.csv')\n",
    "\n",
    "data=diabetes.drop('Outcome', axis=1)\n",
    "target=diabetes['Outcome']\n",
    "\n",
    "xtrain,xtest,ytrain,ytest = train_test_split(data,target,random_state=42)"
   ]
  },
  {
   "cell_type": "code",
   "execution_count": 101,
   "metadata": {},
   "outputs": [],
   "source": [
    "scaler = StandardScaler().fit(xtrain)\n",
    "\n",
    "xtrain_scaled = scaler.transform(xtrain)\n",
    "xtest_scaled = scaler.transform(xtest)"
   ]
  },
  {
   "cell_type": "code",
   "execution_count": 102,
   "metadata": {},
   "outputs": [
    {
     "name": "stdout",
     "output_type": "stream",
     "text": [
      "1.000|0.630 :: K:1\n",
      "0.865|0.698 :: K:3\n",
      "0.833|0.682 :: K:5\n",
      "0.809|0.698 :: K:7\n",
      "0.816|0.677 :: K:9\n",
      "0.800|0.688 :: K:11\n",
      "0.797|0.677 :: K:13\n",
      "0.807|0.719 :: K:15\n",
      "0.800|0.724 :: K:17\n",
      "0.788|0.703 :: K:19\n",
      "0.781|0.714 :: K:21\n",
      "0.778|0.708 :: K:23\n",
      "0.786|0.724 :: K:25\n",
      "0.780|0.724 :: K:27\n",
      "0.776|0.714 :: K:29\n",
      "0.781|0.693 :: K:31\n",
      "0.776|0.714 :: K:33\n",
      "0.780|0.719 :: K:35\n",
      "0.780|0.714 :: K:37\n",
      "0.773|0.734 :: K:39\n",
      "0.780|0.719 :: K:41\n",
      "0.773|0.729 :: K:43\n",
      "0.774|0.745 :: K:45\n",
      "0.778|0.745 :: K:47\n",
      "0.767|0.745 :: K:49\n",
      "0.769|0.740 :: K:51\n",
      "0.764|0.724 :: K:53\n",
      "0.759|0.750 :: K:55\n",
      "0.757|0.745 :: K:57\n",
      "0.750|0.740 :: K:59\n",
      "0.755|0.734 :: K:61\n",
      "0.755|0.740 :: K:63\n",
      "0.752|0.740 :: K:65\n",
      "0.750|0.750 :: K:67\n",
      "0.753|0.745 :: K:69\n",
      "0.755|0.745 :: K:71\n",
      "0.752|0.734 :: K:73\n",
      "0.748|0.734 :: K:75\n",
      "0.750|0.740 :: K:77\n",
      "0.755|0.734 :: K:79\n",
      "0.750|0.750 :: K:81\n",
      "0.747|0.745 :: K:83\n",
      "0.753|0.755 :: K:85\n",
      "0.755|0.750 :: K:87\n",
      "0.750|0.740 :: K:89\n",
      "0.745|0.755 :: K:91\n",
      "0.748|0.750 :: K:93\n",
      "0.740|0.750 :: K:95\n",
      "0.741|0.745 :: K:97\n",
      "0.736|0.750 :: K:99\n",
      "0.740|0.755 :: K:101\n",
      "0.736|0.760 :: K:103\n",
      "0.734|0.755 :: K:105\n",
      "0.736|0.750 :: K:107\n",
      "0.733|0.745 :: K:109\n",
      "0.733|0.740 :: K:111\n",
      "0.731|0.745 :: K:113\n",
      "0.731|0.745 :: K:115\n",
      "0.724|0.734 :: K:117\n",
      "0.726|0.740 :: K:119\n",
      "0.722|0.734 :: K:121\n",
      "0.720|0.734 :: K:123\n",
      "0.722|0.734 :: K:125\n",
      "0.724|0.724 :: K:127\n",
      "0.724|0.724 :: K:129\n",
      "0.724|0.729 :: K:131\n",
      "0.722|0.719 :: K:133\n",
      "0.719|0.714 :: K:135\n",
      "0.724|0.719 :: K:137\n",
      "0.722|0.714 :: K:139\n",
      "0.724|0.708 :: K:141\n",
      "0.724|0.714 :: K:143\n",
      "0.715|0.708 :: K:145\n",
      "0.717|0.703 :: K:147\n",
      "0.719|0.698 :: K:149\n",
      "0.717|0.703 :: K:151\n",
      "0.715|0.693 :: K:153\n",
      "0.719|0.693 :: K:155\n",
      "0.717|0.698 :: K:157\n",
      "0.710|0.698 :: K:159\n",
      "0.703|0.698 :: K:161\n",
      "0.701|0.693 :: K:163\n",
      "0.707|0.693 :: K:165\n",
      "0.705|0.693 :: K:167\n",
      "0.701|0.693 :: K:169\n",
      "0.701|0.693 :: K:171\n",
      "0.701|0.693 :: K:173\n",
      "0.705|0.693 :: K:175\n",
      "0.700|0.693 :: K:177\n",
      "0.698|0.693 :: K:179\n",
      "0.698|0.698 :: K:181\n",
      "0.698|0.698 :: K:183\n",
      "0.691|0.698 :: K:185\n",
      "0.694|0.693 :: K:187\n",
      "0.694|0.693 :: K:189\n",
      "0.694|0.693 :: K:191\n",
      "0.694|0.688 :: K:193\n",
      "0.693|0.688 :: K:195\n",
      "0.693|0.688 :: K:197\n",
      "0.689|0.688 :: K:199\n",
      "0.691|0.688 :: K:201\n",
      "0.691|0.688 :: K:203\n",
      "0.693|0.682 :: K:205\n",
      "0.691|0.688 :: K:207\n",
      "0.691|0.682 :: K:209\n",
      "0.691|0.677 :: K:211\n",
      "0.691|0.677 :: K:213\n",
      "0.689|0.677 :: K:215\n",
      "0.689|0.661 :: K:217\n",
      "0.689|0.656 :: K:219\n",
      "0.689|0.656 :: K:221\n",
      "0.688|0.656 :: K:223\n",
      "0.686|0.656 :: K:225\n",
      "0.684|0.656 :: K:227\n",
      "0.684|0.656 :: K:229\n",
      "0.686|0.656 :: K:231\n",
      "0.686|0.656 :: K:233\n",
      "0.682|0.656 :: K:235\n",
      "0.682|0.656 :: K:237\n",
      "0.677|0.656 :: K:239\n",
      "0.681|0.651 :: K:241\n",
      "0.681|0.651 :: K:243\n",
      "0.677|0.651 :: K:245\n",
      "0.677|0.646 :: K:247\n",
      "0.679|0.646 :: K:249\n"
     ]
    },
    {
     "data": {
      "text/plain": [
       "<matplotlib.legend.Legend at 0x1a1fdd0588>"
      ]
     },
     "execution_count": 102,
     "metadata": {},
     "output_type": "execute_result"
    },
    {
     "data": {
      "image/png": "[encoded data removed]",
      "text/plain": [
       "<Figure size 3600x720 with 1 Axes>"
      ]
     },
     "metadata": {
      "needs_background": "light"
     },
     "output_type": "display_data"
    }
   ],
   "source": [
    "test_load=[]\n",
    "train_load=[]\n",
    "\n",
    "for k_neighbors in range(1,250,2):\n",
    "    knn_classifier = KNeighborsClassifier(n_neighbors=k_neighbors).fit(xtrain_scaled,ytrain)\n",
    "    \n",
    "    train_score = knn_classifier.score(xtrain_scaled,ytrain)\n",
    "    test_score = knn_classifier.score(xtest_scaled,ytest)\n",
    "    \n",
    "    train_load.append(train_score)\n",
    "    test_load.append(test_score)\n",
    "    \n",
    "    print(f'{train_score:.3f}|{test_score:.3f} :: K:{k_neighbors}')\n",
    "    \n",
    "    \n",
    "plt.figure(figsize=(50,10))\n",
    "\n",
    "plt.plot(range(1,250,2),train_load,marker='x',label='train')\n",
    "plt.plot(range(1,250,2),test_load,marker='x',label='test')\n",
    "\n",
    "plt.xticks(range(1,250,2))\n",
    "plt.legend()\n"
   ]
  },
  {
   "cell_type": "code",
   "execution_count": 104,
   "metadata": {},
   "outputs": [
    {
     "name": "stdout",
     "output_type": "stream",
     "text": [
      "Index(['Pregnancies', 'Glucose', 'BloodPressure', 'SkinThickness', 'Insulin',\n",
      "       'BMI', 'DiabetesPedigreeFunction', 'Age'],\n",
      "      dtype='object')\n"
     ]
    },
    {
     "data": {
      "text/html": [
       "<div>\n",
       "<style scoped>\n",
       "    .dataframe tbody tr th:only-of-type {\n",
       "        vertical-align: middle;\n",
       "    }\n",
       "\n",
       "    .dataframe tbody tr th {\n",
       "        vertical-align: top;\n",
       "    }\n",
       "\n",
       "    .dataframe thead th {\n",
       "        text-align: right;\n",
       "    }\n",
       "</style>\n",
       "<table border=\"1\" class=\"dataframe\">\n",
       "  <thead>\n",
       "    <tr style=\"text-align: right;\">\n",
       "      <th></th>\n",
       "      <th>Pregnancies</th>\n",
       "      <th>Glucose</th>\n",
       "      <th>BloodPressure</th>\n",
       "      <th>SkinThickness</th>\n",
       "      <th>Insulin</th>\n",
       "      <th>BMI</th>\n",
       "      <th>DiabetesPedigreeFunction</th>\n",
       "      <th>Age</th>\n",
       "      <th>Outcome</th>\n",
       "    </tr>\n",
       "  </thead>\n",
       "  <tbody>\n",
       "    <tr>\n",
       "      <th>0</th>\n",
       "      <td>6</td>\n",
       "      <td>148</td>\n",
       "      <td>72</td>\n",
       "      <td>35</td>\n",
       "      <td>0</td>\n",
       "      <td>33.6</td>\n",
       "      <td>0.627</td>\n",
       "      <td>50</td>\n",
       "      <td>1</td>\n",
       "    </tr>\n",
       "    <tr>\n",
       "      <th>1</th>\n",
       "      <td>1</td>\n",
       "      <td>85</td>\n",
       "      <td>66</td>\n",
       "      <td>29</td>\n",
       "      <td>0</td>\n",
       "      <td>26.6</td>\n",
       "      <td>0.351</td>\n",
       "      <td>31</td>\n",
       "      <td>0</td>\n",
       "    </tr>\n",
       "    <tr>\n",
       "      <th>2</th>\n",
       "      <td>8</td>\n",
       "      <td>183</td>\n",
       "      <td>64</td>\n",
       "      <td>0</td>\n",
       "      <td>0</td>\n",
       "      <td>23.3</td>\n",
       "      <td>0.672</td>\n",
       "      <td>32</td>\n",
       "      <td>1</td>\n",
       "    </tr>\n",
       "    <tr>\n",
       "      <th>3</th>\n",
       "      <td>1</td>\n",
       "      <td>89</td>\n",
       "      <td>66</td>\n",
       "      <td>23</td>\n",
       "      <td>94</td>\n",
       "      <td>28.1</td>\n",
       "      <td>0.167</td>\n",
       "      <td>21</td>\n",
       "      <td>0</td>\n",
       "    </tr>\n",
       "    <tr>\n",
       "      <th>4</th>\n",
       "      <td>0</td>\n",
       "      <td>137</td>\n",
       "      <td>40</td>\n",
       "      <td>35</td>\n",
       "      <td>168</td>\n",
       "      <td>43.1</td>\n",
       "      <td>2.288</td>\n",
       "      <td>33</td>\n",
       "      <td>1</td>\n",
       "    </tr>\n",
       "    <tr>\n",
       "      <th>5</th>\n",
       "      <td>5</td>\n",
       "      <td>116</td>\n",
       "      <td>74</td>\n",
       "      <td>0</td>\n",
       "      <td>0</td>\n",
       "      <td>25.6</td>\n",
       "      <td>0.201</td>\n",
       "      <td>30</td>\n",
       "      <td>0</td>\n",
       "    </tr>\n",
       "    <tr>\n",
       "      <th>6</th>\n",
       "      <td>3</td>\n",
       "      <td>78</td>\n",
       "      <td>50</td>\n",
       "      <td>32</td>\n",
       "      <td>88</td>\n",
       "      <td>31.0</td>\n",
       "      <td>0.248</td>\n",
       "      <td>26</td>\n",
       "      <td>1</td>\n",
       "    </tr>\n",
       "  </tbody>\n",
       "</table>\n",
       "</div>"
      ],
      "text/plain": [
       "   Pregnancies  Glucose  BloodPressure  SkinThickness  Insulin   BMI  \\\n",
       "0            6      148             72             35        0  33.6   \n",
       "1            1       85             66             29        0  26.6   \n",
       "2            8      183             64              0        0  23.3   \n",
       "3            1       89             66             23       94  28.1   \n",
       "4            0      137             40             35      168  43.1   \n",
       "5            5      116             74              0        0  25.6   \n",
       "6            3       78             50             32       88  31.0   \n",
       "\n",
       "   DiabetesPedigreeFunction  Age  Outcome  \n",
       "0                     0.627   50        1  \n",
       "1                     0.351   31        0  \n",
       "2                     0.672   32        1  \n",
       "3                     0.167   21        0  \n",
       "4                     2.288   33        1  \n",
       "5                     0.201   30        0  \n",
       "6                     0.248   26        1  "
      ]
     },
     "execution_count": 104,
     "metadata": {},
     "output_type": "execute_result"
    }
   ],
   "source": [
    "print(data.columns)\n",
    "diabetes.head(7)"
   ]
  },
  {
   "cell_type": "code",
   "execution_count": 105,
   "metadata": {},
   "outputs": [
    {
     "data": {
      "text/plain": [
       "0.6927083333333334"
      ]
     },
     "execution_count": 105,
     "metadata": {},
     "output_type": "execute_result"
    }
   ],
   "source": [
    "diabetes_classifier = KNeighborsClassifier(n_neighbors=189).fit(xtrain_scaled,ytrain)\n",
    "\n",
    "diabetes_classifier.score(xtest_scaled,ytest)"
   ]
  },
  {
   "cell_type": "code",
   "execution_count": 110,
   "metadata": {},
   "outputs": [
    {
     "data": {
      "text/plain": [
       "array([-0.8300536 , -1.54677758, -1.16978926, -0.1618811 , -0.03757104,\n",
       "       -1.52079883, -0.42951338, -0.94993102])"
      ]
     },
     "execution_count": 110,
     "metadata": {},
     "output_type": "execute_result"
    }
   ],
   "source": [
    "[xtest_scaled[i] for i in range(len(xtest_scaled))][6]"
   ]
  },
  {
   "cell_type": "code",
   "execution_count": 106,
   "metadata": {},
   "outputs": [
    {
     "name": "stdout",
     "output_type": "stream",
     "text": [
      "     predictions  actual\n",
      "668            0       0\n",
      "324            0       0\n",
      "624            0       0\n",
      "690            0       0\n",
      "473            0       0\n",
      "204            0       0\n",
      "97             0       0\n",
      "336            0       0\n",
      "568            0       0\n",
      "148            0       0\n",
      "667            0       1\n",
      "212            1       0\n",
      "199            0       1\n",
      "265            0       0\n",
      "760            0       0\n",
      "356            0       1\n",
      "501            0       0\n",
      "457            0       0\n",
      "604            0       1\n",
      "213            0       1\n",
      "636            0       0\n",
      "544            0       0\n",
      "86             0       0\n",
      "208            0       0\n",
      "281            0       0\n",
      "209            1       1\n",
      "581            0       0\n",
      "639            0       0\n",
      "328            0       1\n",
      "431            0       0\n",
      "..           ...     ...\n",
      "718            0       0\n",
      "90             0       0\n",
      "377            0       0\n",
      "235            0       1\n",
      "158            0       0\n",
      "69             0       0\n",
      "260            0       0\n",
      "131            0       1\n",
      "44             0       0\n",
      "70             0       1\n",
      "264            0       1\n",
      "673            0       0\n",
      "286            0       0\n",
      "640            0       0\n",
      "135            0       0\n",
      "745            0       0\n",
      "165            0       1\n",
      "164            0       1\n",
      "28             0       0\n",
      "608            0       0\n",
      "583            0       0\n",
      "746            0       1\n",
      "292            0       1\n",
      "136            0       0\n",
      "432            0       0\n",
      "554            0       0\n",
      "319            1       1\n",
      "594            0       0\n",
      "6              0       1\n",
      "615            0       0\n",
      "\n",
      "[192 rows x 2 columns]\n"
     ]
    }
   ],
   "source": [
    "predictions = diabetes_classifier.predict([xtest_scaled[i] for i in range(len(xtest_scaled))])\n",
    "print(pd.DataFrame({'predictions':predictions,'actual':ytest}))"
   ]
  },
  {
   "cell_type": "code",
   "execution_count": 111,
   "metadata": {},
   "outputs": [
    {
     "data": {
      "text/plain": [
       "[[-0.8300536,\n",
       "  -1.54677758,\n",
       "  -1.16978926,\n",
       "  -0.1618811,\n",
       "  -0.03757104,\n",
       "  -1.52079883,\n",
       "  -0.42951338,\n",
       "  -0.94993102]]"
      ]
     },
     "execution_count": 111,
     "metadata": {},
     "output_type": "execute_result"
    }
   ],
   "source": [
    "#index 6 from xtest_scaled\n",
    "\n",
    "survey = [[-0.8300536 , -1.54677758, -1.16978926, -0.1618811 , -0.03757104,\n",
    "           -1.52079883, -0.42951338, -0.94993102]]\n",
    "survey"
   ]
  },
  {
   "cell_type": "code",
   "execution_count": 112,
   "metadata": {},
   "outputs": [
    {
     "data": {
      "text/plain": [
       "array([0])"
      ]
     },
     "execution_count": 112,
     "metadata": {},
     "output_type": "execute_result"
    }
   ],
   "source": [
    "diabetes_classifier.predict(survey)"
   ]
  },
  {
   "cell_type": "markdown",
   "metadata": {},
   "source": [
    "## Support Vector Machines"
   ]
  },
  {
   "cell_type": "markdown",
   "metadata": {},
   "source": [
    "`Linear Classifers` attempt to draw a line that seperates the data, but the issue is which line best seperates the groups?\n",
    "\n",
    "\n",
    "`SVM Algorithm` finds the optimal hyperplane that seperates the data points with the largest margin possible.\n",
    "\n",
    "### Precision & Recall\n",
    "\n",
    "A confusion matrix is a table used to describe the performance of a classifier by comparing the predicted and actual values. Consider the following matrix where the classes are 'cancer' or 'no cancer'\n",
    "\n",
    "- True Positive (TP): The predicted class and the actual class are the same. Both predicted Cancer.\n",
    "- True Negative (TN): The predicted class and the actual class are the same. Both predicted No Cancer.\n",
    "- False Negative (FN): The predicted was No Cancer when the actual class was Cancer.\n",
    "- False Positive (FP): The predicted was Cancer when the actual class was No Cancer.\n",
    "\n",
    "#### Accuracy\n",
    "\n",
    "Accuracy is the ratio of `correctly predicted observations` to the `total number of observations`.\n",
    "\n",
    "#### Precision\n",
    "\n",
    "Precision is the ratio of `correctly predicted positive observations` to the `True Positive` + `False Positive` (i.e. Of all the samples we classified as Cancer, how many are actually Cancer?\n",
    "\n",
    "#### Recall\n",
    "\n",
    "Recall is the ratio of `correctly predicted positive observations` to the `True Positive` + `False Negative` (i.e. Of all the actual Cancer samples, how many did we classify as Cancer?)\n",
    "\n",
    "\n",
    "#### F1 Score - Imbalenced Datasets\n",
    "\n",
    "The F1 Score is the harmonic average of the precision and recall, where an F1 Score reaches its best value at 1 (perfect precision and recall) and worst at 0.\n"
   ]
  },
  {
   "cell_type": "code",
   "execution_count": 4,
   "metadata": {},
   "outputs": [],
   "source": [
    "import numpy as np \n",
    "import matplotlib.pyplot as plt\n",
    "\n",
    "from matplotlib import style \n",
    "style.use('ggplot')"
   ]
  },
  {
   "cell_type": "code",
   "execution_count": 5,
   "metadata": {},
   "outputs": [
    {
     "data": {
      "text/plain": [
       "<matplotlib.collections.PathCollection at 0x1a16d1bc88>"
      ]
     },
     "execution_count": 5,
     "metadata": {},
     "output_type": "execute_result"
    },
    {
     "data": {
      "image/png": "[encoded data removed]",
      "text/plain": [
       "<Figure size 432x288 with 1 Axes>"
      ]
     },
     "metadata": {
      "needs_background": "light"
     },
     "output_type": "display_data"
    }
   ],
   "source": [
    "from sklearn.datasets import make_blobs\n",
    "\n",
    "X,y = make_blobs(centers=2, n_samples=40, random_state=42, cluster_std=1.25)\n",
    "plt.scatter(X[:,0],X[:,1],c=y,cmap='bwr',edgecolor='k')"
   ]
  },
  {
   "cell_type": "markdown",
   "metadata": {},
   "source": [
    "Support vector machine linear classifier"
   ]
  },
  {
   "cell_type": "code",
   "execution_count": 6,
   "metadata": {},
   "outputs": [
    {
     "data": {
      "text/plain": [
       "SVC(C=1.0, cache_size=200, class_weight=None, coef0=0.0,\n",
       "  decision_function_shape='ovr', degree=3, gamma='auto_deprecated',\n",
       "  kernel='linear', max_iter=-1, probability=False, random_state=None,\n",
       "  shrinking=True, tol=0.001, verbose=False)"
      ]
     },
     "execution_count": 6,
     "metadata": {},
     "output_type": "execute_result"
    }
   ],
   "source": [
    "from sklearn.svm import SVC\n",
    "model=SVC(kernel='linear')\n",
    "model.fit(X,y)"
   ]
  },
  {
   "cell_type": "code",
   "execution_count": 7,
   "metadata": {},
   "outputs": [
    {
     "data": {
      "text/plain": [
       "<matplotlib.collections.PathCollection at 0x1a17213748>"
      ]
     },
     "execution_count": 7,
     "metadata": {},
     "output_type": "execute_result"
    },
    {
     "data": {
      "image/png": "[encoded data removed]",
      "text/plain": [
       "<Figure size 432x288 with 1 Axes>"
      ]
     },
     "metadata": {
      "needs_background": "light"
     },
     "output_type": "display_data"
    }
   ],
   "source": [
    "x_min = X[:,0].min()\n",
    "x_max = X[:,0].max()\n",
    "\n",
    "y_min = X[:,1].min()\n",
    "y_max = X[:,1].max()\n",
    "\n",
    "XX,YY = np.mgrid[x_min:x_max, y_min:y_max]\n",
    "Z = model.decision_function(np.c_[XX.ravel(), YY.ravel()])\n",
    "Z = Z.reshape(XX.shape)\n",
    "# plt.pcolormesh(XX, YY, Z > 0, cmap=plt.cm.Paired)\n",
    "plt.contour(XX,YY,Z, colors=['k','k','k'],linestyles=['--','-','--'],levels=[-.5,0,.5])\n",
    "\n",
    "plt.scatter(X[:,0],X[:,1],c=y,cmap='bwr',edgecolor='k')"
   ]
  },
  {
   "cell_type": "markdown",
   "metadata": {},
   "source": [
    "### Validation"
   ]
  },
  {
   "cell_type": "code",
   "execution_count": 8,
   "metadata": {},
   "outputs": [],
   "source": [
    "from sklearn.datasets.samples_generator import make_blobs\n",
    "\n",
    "data,target=make_blobs(centers=2,random_state=0,n_samples=100,cluster_std=.95)"
   ]
  },
  {
   "cell_type": "code",
   "execution_count": 9,
   "metadata": {},
   "outputs": [
    {
     "data": {
      "text/plain": [
       "<matplotlib.collections.PathCollection at 0x1a172894e0>"
      ]
     },
     "execution_count": 9,
     "metadata": {},
     "output_type": "execute_result"
    },
    {
     "data": {
      "image/png": "[encoded data removed]",
      "text/plain": [
       "<Figure size 432x288 with 1 Axes>"
      ]
     },
     "metadata": {
      "needs_background": "light"
     },
     "output_type": "display_data"
    }
   ],
   "source": [
    "plt.scatter(data[:,0],data[:,1],c=target,edgecolor='k')"
   ]
  },
  {
   "cell_type": "code",
   "execution_count": 10,
   "metadata": {},
   "outputs": [],
   "source": [
    "from sklearn.model_selection import train_test_split\n",
    "xtrain,xtest,ytrain,ytest=train_test_split(data,target,random_state=42)"
   ]
  },
  {
   "cell_type": "code",
   "execution_count": 88,
   "metadata": {},
   "outputs": [],
   "source": [
    "#instantiate the model then fit\n",
    "model=SVC(kernel='linear').fit(xtrain,ytrain)"
   ]
  },
  {
   "cell_type": "code",
   "execution_count": 89,
   "metadata": {},
   "outputs": [
    {
     "data": {
      "text/plain": [
       "<matplotlib.collections.PathCollection at 0x1a1826aac8>"
      ]
     },
     "execution_count": 89,
     "metadata": {},
     "output_type": "execute_result"
    },
    {
     "data": {
      "image/png": "[encoded data removed]",
      "text/plain": [
       "<Figure size 432x288 with 1 Axes>"
      ]
     },
     "metadata": {
      "needs_background": "light"
     },
     "output_type": "display_data"
    }
   ],
   "source": [
    "# Plot the decision boundaries\n",
    "x_min = data[:, 0].min()\n",
    "x_max = data[:, 0].max()\n",
    "y_min = data[:, 1].min()\n",
    "y_max = data[:, 1].max()\n",
    "\n",
    "#mesh-grid\n",
    "\n",
    "XX, YY = np.mgrid[x_min:x_max, y_min:y_max]\n",
    "Z = model.decision_function(np.c_[XX.ravel(), YY.ravel()])\n",
    "\n",
    "# Put the result into a color plot\n",
    "Z = Z.reshape(XX.shape)\n",
    "\n",
    "plt.contour(XX, YY, Z, colors=['k', 'k', 'k'],\n",
    "            linestyles=['--', '-', '--'], levels=[-.5, 0, .5])\n",
    "\n",
    "# plt.pcolormesh(XX, YY, Z > 0, cmap=plt.cm.Paired)\n",
    "plt.scatter(data[:, 0], data[:, 1], c=target, edgecolor='k')"
   ]
  },
  {
   "cell_type": "code",
   "execution_count": 90,
   "metadata": {},
   "outputs": [
    {
     "data": {
      "text/plain": [
       "array([0, 0, 0, 1, 0, 1, 1, 0, 0, 1, 1, 1, 0, 1, 1, 1, 1, 1, 0, 0, 0, 1,\n",
       "       1, 0, 0])"
      ]
     },
     "execution_count": 90,
     "metadata": {},
     "output_type": "execute_result"
    }
   ],
   "source": [
    "predictions=model.predict(xtest)\n",
    "predictions"
   ]
  },
  {
   "cell_type": "code",
   "execution_count": 96,
   "metadata": {},
   "outputs": [
    {
     "name": "stdout",
     "output_type": "stream",
     "text": [
      "              precision    recall  f1-score   support\n",
      "\n",
      "         top       0.83      1.00      0.91        10\n",
      "      bottom       1.00      0.87      0.93        15\n",
      "\n",
      "   micro avg       0.92      0.92      0.92        25\n",
      "   macro avg       0.92      0.93      0.92        25\n",
      "weighted avg       0.93      0.92      0.92        25\n",
      "\n"
     ]
    }
   ],
   "source": [
    "from sklearn.metrics import classification_report\n",
    "print(classification_report(ytest, predictions,target_names=['top','bottom']))"
   ]
  },
  {
   "cell_type": "markdown",
   "metadata": {},
   "source": [
    "## GridSearch\n",
    "\n",
    "tries every combination of parameters"
   ]
  },
  {
   "cell_type": "code",
   "execution_count": 27,
   "metadata": {},
   "outputs": [],
   "source": [
    "from sklearn.datasets.samples_generator import make_blobs\n",
    "from sklearn.svm import SVC\n",
    "from sklearn.metrics import classification_report\n",
    "\n",
    "import matplotlib.pyplot as plt\n",
    "import warnings\n",
    "warnings.simplefilter('ignore')"
   ]
  },
  {
   "cell_type": "code",
   "execution_count": 10,
   "metadata": {},
   "outputs": [
    {
     "data": {
      "text/plain": [
       "<matplotlib.collections.PathCollection at 0x1a149fb668>"
      ]
     },
     "execution_count": 10,
     "metadata": {},
     "output_type": "execute_result"
    },
    {
     "data": {
      "image/png": "[encoded data removed]",
      "text/plain": [
       "<Figure size 432x288 with 1 Axes>"
      ]
     },
     "metadata": {
      "needs_background": "light"
     },
     "output_type": "display_data"
    }
   ],
   "source": [
    "data,target = make_blobs(centers=2, cluster_std=0.95, n_samples=100, random_state=0)\n",
    "\n",
    "plt.scatter(data[:,0], data[:,1], c=target)"
   ]
  },
  {
   "cell_type": "code",
   "execution_count": 21,
   "metadata": {},
   "outputs": [],
   "source": [
    "from sklearn.model_selection import train_test_split\n",
    "\n",
    "xtrain,xtest,ytrain,ytest = train_test_split(data,target,random_state=42)"
   ]
  },
  {
   "cell_type": "code",
   "execution_count": 23,
   "metadata": {},
   "outputs": [
    {
     "data": {
      "text/plain": [
       "SVC(C=1.0, cache_size=200, class_weight=None, coef0=0.0,\n",
       "  decision_function_shape='ovr', degree=3, gamma='auto_deprecated',\n",
       "  kernel='linear', max_iter=-1, probability=False, random_state=None,\n",
       "  shrinking=True, tol=0.001, verbose=False)"
      ]
     },
     "execution_count": 23,
     "metadata": {},
     "output_type": "execute_result"
    }
   ],
   "source": [
    "svc_model = SVC(kernel='linear').fit(xtrain,ytrain)\n",
    "svc_model"
   ]
  },
  {
   "cell_type": "markdown",
   "metadata": {},
   "source": [
    "#### create the GridSearch estimator along with a parameter object containing the values to adjust\n",
    "\n",
    "- every possible combination of these parameters are tried, and a score is given"
   ]
  },
  {
   "cell_type": "code",
   "execution_count": 25,
   "metadata": {},
   "outputs": [
    {
     "data": {
      "text/plain": [
       "GridSearchCV(cv='warn', error_score='raise-deprecating',\n",
       "       estimator=SVC(C=1.0, cache_size=200, class_weight=None, coef0=0.0,\n",
       "  decision_function_shape='ovr', degree=3, gamma='auto_deprecated',\n",
       "  kernel='linear', max_iter=-1, probability=False, random_state=None,\n",
       "  shrinking=True, tol=0.001, verbose=False),\n",
       "       fit_params=None, iid='warn', n_jobs=None,\n",
       "       param_grid={'C': [1, 5, 10, 50], 'gamma': [0.0001, 0.0005, 0.001, 0.005]},\n",
       "       pre_dispatch='2*n_jobs', refit=True, return_train_score='warn',\n",
       "       scoring=None, verbose=3)"
      ]
     },
     "execution_count": 25,
     "metadata": {},
     "output_type": "execute_result"
    }
   ],
   "source": [
    "from sklearn.model_selection import GridSearchCV\n",
    "\n",
    "param_grid = {\n",
    "    'C':[1,5,10,50],\n",
    "    'gamma':[0.0001, 0.0005, 0.001, 0.005]\n",
    "}\n",
    "\n",
    "grid = GridSearchCV(svc_model, param_grid, verbose=3)\n",
    "grid"
   ]
  },
  {
   "cell_type": "markdown",
   "metadata": {},
   "source": [
    "#### fit the model using the grid search estimator. This will take the SVC model and try each combination of parameters\n"
   ]
  },
  {
   "cell_type": "code",
   "execution_count": 28,
   "metadata": {},
   "outputs": [
    {
     "name": "stdout",
     "output_type": "stream",
     "text": [
      "Fitting 3 folds for each of 16 candidates, totalling 48 fits\n",
      "[CV] C=1, gamma=0.0001 ...............................................\n",
      "[CV] ...... C=1, gamma=0.0001, score=0.8846153846153846, total=   0.0s\n",
      "[CV] C=1, gamma=0.0001 ...............................................\n",
      "[CV] .................... C=1, gamma=0.0001, score=0.84, total=   0.0s\n",
      "[CV] C=1, gamma=0.0001 ...............................................\n",
      "[CV] ...... C=1, gamma=0.0001, score=0.9583333333333334, total=   0.0s\n",
      "[CV] C=1, gamma=0.0005 ...............................................\n",
      "[CV] ...... C=1, gamma=0.0005, score=0.8846153846153846, total=   0.0s\n",
      "[CV] C=1, gamma=0.0005 ...............................................\n",
      "[CV] .................... C=1, gamma=0.0005, score=0.84, total=   0.0s\n",
      "[CV] C=1, gamma=0.0005 ...............................................\n",
      "[CV] ...... C=1, gamma=0.0005, score=0.9583333333333334, total=   0.0s\n",
      "[CV] C=1, gamma=0.001 ................................................\n",
      "[CV] ....... C=1, gamma=0.001, score=0.8846153846153846, total=   0.0s\n",
      "[CV] C=1, gamma=0.001 ................................................\n",
      "[CV] ..................... C=1, gamma=0.001, score=0.84, total=   0.0s\n",
      "[CV] C=1, gamma=0.001 ................................................\n",
      "[CV] ....... C=1, gamma=0.001, score=0.9583333333333334, total=   0.0s\n",
      "[CV] C=1, gamma=0.005 ................................................\n",
      "[CV] ....... C=1, gamma=0.005, score=0.8846153846153846, total=   0.0s\n",
      "[CV] C=1, gamma=0.005 ................................................\n",
      "[CV] ..................... C=1, gamma=0.005, score=0.84, total=   0.0s\n",
      "[CV] C=1, gamma=0.005 ................................................\n",
      "[CV] ....... C=1, gamma=0.005, score=0.9583333333333334, total=   0.0s\n",
      "[CV] C=5, gamma=0.0001 ...............................................\n",
      "[CV] ...... C=5, gamma=0.0001, score=0.9230769230769231, total=   0.0s\n",
      "[CV] C=5, gamma=0.0001 ...............................................\n",
      "[CV] .................... C=5, gamma=0.0001, score=0.84, total=   0.0s\n",
      "[CV] C=5, gamma=0.0001 ...............................................\n",
      "[CV] ...... C=5, gamma=0.0001, score=0.9583333333333334, total=   0.0s\n",
      "[CV] C=5, gamma=0.0005 ...............................................\n",
      "[CV] ...... C=5, gamma=0.0005, score=0.9230769230769231, total=   0.0s\n",
      "[CV] C=5, gamma=0.0005 ...............................................\n",
      "[CV] .................... C=5, gamma=0.0005, score=0.84, total=   0.0s\n",
      "[CV] C=5, gamma=0.0005 ...............................................\n",
      "[CV] ...... C=5, gamma=0.0005, score=0.9583333333333334, total=   0.0s\n",
      "[CV] C=5, gamma=0.001 ................................................\n",
      "[CV] ....... C=5, gamma=0.001, score=0.9230769230769231, total=   0.0s\n",
      "[CV] C=5, gamma=0.001 ................................................\n",
      "[CV] ..................... C=5, gamma=0.001, score=0.84, total=   0.0s\n",
      "[CV] C=5, gamma=0.001 ................................................\n",
      "[CV] ....... C=5, gamma=0.001, score=0.9583333333333334, total=   0.0s\n",
      "[CV] C=5, gamma=0.005 ................................................\n",
      "[CV] ....... C=5, gamma=0.005, score=0.9230769230769231, total=   0.0s\n",
      "[CV] C=5, gamma=0.005 ................................................\n",
      "[CV] ..................... C=5, gamma=0.005, score=0.84, total=   0.0s\n",
      "[CV] C=5, gamma=0.005 ................................................\n",
      "[CV] ....... C=5, gamma=0.005, score=0.9583333333333334, total=   0.0s\n",
      "[CV] C=10, gamma=0.0001 ..............................................\n",
      "[CV] ..... C=10, gamma=0.0001, score=0.9230769230769231, total=   0.0s\n",
      "[CV] C=10, gamma=0.0001 ..............................................\n",
      "[CV] ................... C=10, gamma=0.0001, score=0.84, total=   0.0s\n",
      "[CV] C=10, gamma=0.0001 ..............................................\n",
      "[CV] ..... C=10, gamma=0.0001, score=0.9583333333333334, total=   0.0s\n",
      "[CV] C=10, gamma=0.0005 ..............................................\n",
      "[CV] ..... C=10, gamma=0.0005, score=0.9230769230769231, total=   0.0s\n",
      "[CV] C=10, gamma=0.0005 ..............................................\n",
      "[CV] ................... C=10, gamma=0.0005, score=0.84, total=   0.0s\n",
      "[CV] C=10, gamma=0.0005 ..............................................\n",
      "[CV] ..... C=10, gamma=0.0005, score=0.9583333333333334, total=   0.0s\n",
      "[CV] C=10, gamma=0.001 ...............................................\n",
      "[CV] ...... C=10, gamma=0.001, score=0.9230769230769231, total=   0.0s\n",
      "[CV] C=10, gamma=0.001 ...............................................\n",
      "[CV] .................... C=10, gamma=0.001, score=0.84, total=   0.0s\n",
      "[CV] C=10, gamma=0.001 ...............................................\n",
      "[CV] ...... C=10, gamma=0.001, score=0.9583333333333334, total=   0.0s\n",
      "[CV] C=10, gamma=0.005 ...............................................\n",
      "[CV] ...... C=10, gamma=0.005, score=0.9230769230769231, total=   0.0s\n",
      "[CV] C=10, gamma=0.005 ...............................................\n",
      "[CV] .................... C=10, gamma=0.005, score=0.84, total=   0.0s\n",
      "[CV] C=10, gamma=0.005 ...............................................\n",
      "[CV] ...... C=10, gamma=0.005, score=0.9583333333333334, total=   0.0s\n",
      "[CV] C=50, gamma=0.0001 ..............................................\n",
      "[CV] ..... C=50, gamma=0.0001, score=0.8846153846153846, total=   0.0s\n",
      "[CV] C=50, gamma=0.0001 ..............................................\n",
      "[CV] ................... C=50, gamma=0.0001, score=0.84, total=   0.0s\n",
      "[CV] C=50, gamma=0.0001 ..............................................\n",
      "[CV] ..... C=50, gamma=0.0001, score=0.9583333333333334, total=   0.0s\n",
      "[CV] C=50, gamma=0.0005 ..............................................\n",
      "[CV] ..... C=50, gamma=0.0005, score=0.8846153846153846, total=   0.0s\n",
      "[CV] C=50, gamma=0.0005 ..............................................\n",
      "[CV] ................... C=50, gamma=0.0005, score=0.84, total=   0.0s\n",
      "[CV] C=50, gamma=0.0005 ..............................................\n",
      "[CV] ..... C=50, gamma=0.0005, score=0.9583333333333334, total=   0.0s\n",
      "[CV] C=50, gamma=0.001 ...............................................\n",
      "[CV] ...... C=50, gamma=0.001, score=0.8846153846153846, total=   0.0s\n",
      "[CV] C=50, gamma=0.001 ...............................................\n",
      "[CV] .................... C=50, gamma=0.001, score=0.84, total=   0.0s\n",
      "[CV] C=50, gamma=0.001 ...............................................\n",
      "[CV] ...... C=50, gamma=0.001, score=0.9583333333333334, total=   0.0s\n",
      "[CV] C=50, gamma=0.005 ...............................................\n",
      "[CV] ...... C=50, gamma=0.005, score=0.8846153846153846, total=   0.0s\n",
      "[CV] C=50, gamma=0.005 ...............................................\n",
      "[CV] .................... C=50, gamma=0.005, score=0.84, total=   0.0s\n",
      "[CV] C=50, gamma=0.005 ...............................................\n",
      "[CV] ...... C=50, gamma=0.005, score=0.9583333333333334, total=   0.0s\n"
     ]
    },
    {
     "name": "stderr",
     "output_type": "stream",
     "text": [
      "[Parallel(n_jobs=1)]: Using backend SequentialBackend with 1 concurrent workers.\n",
      "[Parallel(n_jobs=1)]: Done   1 out of   1 | elapsed:    0.0s remaining:    0.0s\n",
      "[Parallel(n_jobs=1)]: Done   2 out of   2 | elapsed:    0.0s remaining:    0.0s\n",
      "[Parallel(n_jobs=1)]: Done  48 out of  48 | elapsed:    0.1s finished\n"
     ]
    },
    {
     "data": {
      "text/plain": [
       "GridSearchCV(cv='warn', error_score='raise-deprecating',\n",
       "       estimator=SVC(C=1.0, cache_size=200, class_weight=None, coef0=0.0,\n",
       "  decision_function_shape='ovr', degree=3, gamma='auto_deprecated',\n",
       "  kernel='linear', max_iter=-1, probability=False, random_state=None,\n",
       "  shrinking=True, tol=0.001, verbose=False),\n",
       "       fit_params=None, iid='warn', n_jobs=None,\n",
       "       param_grid={'C': [1, 5, 10, 50], 'gamma': [0.0001, 0.0005, 0.001, 0.005]},\n",
       "       pre_dispatch='2*n_jobs', refit=True, return_train_score='warn',\n",
       "       scoring=None, verbose=3)"
      ]
     },
     "execution_count": 28,
     "metadata": {},
     "output_type": "execute_result"
    }
   ],
   "source": [
    "grid.fit(xtrain,ytrain)"
   ]
  },
  {
   "cell_type": "code",
   "execution_count": 34,
   "metadata": {},
   "outputs": [
    {
     "name": "stdout",
     "output_type": "stream",
     "text": [
      "{'C': 5, 'gamma': 0.0001}\n"
     ]
    }
   ],
   "source": [
    "#list the best parameters for this dataset\n",
    "print(grid.best_params_)"
   ]
  },
  {
   "cell_type": "code",
   "execution_count": 35,
   "metadata": {},
   "outputs": [
    {
     "name": "stdout",
     "output_type": "stream",
     "text": [
      "0.9066666666666666\n"
     ]
    }
   ],
   "source": [
    "#list the best score\n",
    "print(grid.best_score_)"
   ]
  },
  {
   "cell_type": "markdown",
   "metadata": {},
   "source": [
    "#### make predictions with the hypertuned model"
   ]
  },
  {
   "cell_type": "code",
   "execution_count": 40,
   "metadata": {},
   "outputs": [
    {
     "name": "stdout",
     "output_type": "stream",
     "text": [
      "              precision    recall  f1-score   support\n",
      "\n",
      "           0       0.83      1.00      0.91        10\n",
      "           1       1.00      0.87      0.93        15\n",
      "\n",
      "   micro avg       0.92      0.92      0.92        25\n",
      "   macro avg       0.92      0.93      0.92        25\n",
      "weighted avg       0.93      0.92      0.92        25\n",
      "\n"
     ]
    }
   ],
   "source": [
    "predictions = grid.predict(xtest)\n",
    "\n",
    "#calculate classification report\n",
    "from sklearn.metrics import classification_report\n",
    "\n",
    "clf_report = classification_report(ytest, predictions)\n",
    "print(clf_report)"
   ]
  },
  {
   "cell_type": "code",
   "execution_count": null,
   "metadata": {},
   "outputs": [],
   "source": []
  },
  {
   "cell_type": "code",
   "execution_count": null,
   "metadata": {},
   "outputs": [],
   "source": []
  },
  {
   "cell_type": "code",
   "execution_count": null,
   "metadata": {},
   "outputs": [],
   "source": []
  },
  {
   "cell_type": "code",
   "execution_count": null,
   "metadata": {},
   "outputs": [],
   "source": []
  },
  {
   "cell_type": "code",
   "execution_count": null,
   "metadata": {},
   "outputs": [],
   "source": []
  },
  {
   "cell_type": "code",
   "execution_count": null,
   "metadata": {},
   "outputs": [],
   "source": []
  },
  {
   "cell_type": "code",
   "execution_count": null,
   "metadata": {},
   "outputs": [],
   "source": []
  },
  {
   "cell_type": "code",
   "execution_count": null,
   "metadata": {},
   "outputs": [],
   "source": []
  }
 ],
 "metadata": {
  "kernelspec": {
   "display_name": "Python 3",
   "language": "python",
   "name": "python3"
  },
  "language_info": {
   "codemirror_mode": {
    "name": "ipython",
    "version": 3
   },
   "file_extension": ".py",
   "mimetype": "text/x-python",
   "name": "python",
   "nbconvert_exporter": "python",
   "pygments_lexer": "ipython3",
   "version": "3.7.1"
  }
 },
 "nbformat": 4,
 "nbformat_minor": 2
}
